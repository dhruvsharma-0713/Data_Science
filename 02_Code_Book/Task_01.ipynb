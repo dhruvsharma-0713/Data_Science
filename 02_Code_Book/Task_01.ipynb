{
 "cells": [
  {
   "cell_type": "markdown",
   "id": "88cfaea4-3824-465c-958c-bc0953736122",
   "metadata": {},
   "source": [
    "# Welcome to CodeBook – Your Data Science Internship Begins!\n",
    "\n",
    "## **Introduction**\n",
    "Congratulations! You have just been hired as a **Data Scientist Intern** at **CodeBook – The Social Media for Coders**. This Delhi based company is offering you a **₹10 LPA job** if you successfully complete this **1-month internship**. But before you get there, you must prove your skills using **only Python**—no pandas, NumPy, or fancy libraries!\n",
    "\n",
    "Your manager Puneet Kumar has assigned you your **first task**: analyzing a data dump of CodeBook users using pure python. Your job is to **load and explore the data** to understand its structure.\n",
    "\n",
    "---\n",
    "\n",
    "## **Task 1: Load the User Data**\n",
    "Your manager has given you a dataset containing information about CodeBook users, their connections (friends), and the pages they have liked.\n",
    "\n",
    "This is how the data will look like (in JSON format):\n",
    "```json\n",
    "{\n",
    "    \"users\": [\n",
    "        {\"id\": 1, \"name\": \"Amit\", \"friends\": [2, 3], \"liked_pages\": [101]},\n",
    "        {\"id\": 2, \"name\": \"Priya\", \"friends\": [1, 4], \"liked_pages\": [102]},\n",
    "        {\"id\": 3, \"name\": \"Rahul\", \"friends\": [1], \"liked_pages\": [101, 103]},\n",
    "        {\"id\": 4, \"name\": \"Sara\", \"friends\": [2], \"liked_pages\": [104]}\n",
    "    ],\n",
    "    \"pages\": [\n",
    "        {\"id\": 101, \"name\": \"Python Developers\"},\n",
    "        {\"id\": 102, \"name\": \"Data Science Enthusiasts\"},\n",
    "        {\"id\": 103, \"name\": \"AI & ML Community\"},\n",
    "        {\"id\": 104, \"name\": \"Web Dev Hub\"}\n",
    "    ]\n",
    "}\n",
    "```\n",
    "Read this data and understand its structure. The data contains three main components:\n",
    "1. **Users**: Each user has an ID, name, a list of friends (by their IDs), and a list of liked pages (by their IDs).\n",
    "2. **Pages**: Each page has an ID and a name.\n",
    "3. **Connections**: Users can have multiple friends and can like multiple pages.\n",
    "\n",
    "---\n",
    "\n",
    "## **Task 2: Read and Display the Data using Python**\n",
    "Your goal is to **load** this data and **print** it in a structured way. Use Python's built-in modules to accomplish this.\n",
    "\n",
    "### **Steps:**\n",
    "1. Save the JSON data in a file (`codebook_data.json`).\n",
    "2. Read the JSON file using Python.\n",
    "3. Print user details and their connections.\n",
    "4. Print available pages.\n",
    "\n",
    "---\n",
    "\n",
    "## **Expected Output:**\n",
    "```\n",
    "Users and Their Connections:\n",
    "Amit (ID: 1) - Friends: [2, 3] - Liked Pages: [101]\n",
    "Priya (ID: 2) - Friends: [1, 4] - Liked Pages: [102]\n",
    "Rahul (ID: 3) - Friends: [1] - Liked Pages: [101, 103]\n",
    "Sara (ID: 4) - Friends: [2] - Liked Pages: [104]\n",
    "\n",
    "Pages:\n",
    "101: Python Developers\n",
    "102: Data Science Enthusiasts\n",
    "103: AI & ML Community\n",
    "104: Web Dev Hub\n",
    "```\n",
    "\n",
    "---\n"
   ]
  },
  {
   "cell_type": "code",
   "execution_count": 7,
   "id": "1538a629-a415-42af-b058-74751bb55ada",
   "metadata": {},
   "outputs": [],
   "source": [
    "import json"
   ]
  },
  {
   "cell_type": "code",
   "execution_count": 8,
   "id": "334fff33-a97c-4daa-8668-8a4b23418fb3",
   "metadata": {},
   "outputs": [],
   "source": [
    "def load_data(filename):\n",
    "    with open(filename, 'r') as f:\n",
    "        data = json.load(f)\n",
    "        return data"
   ]
  },
  {
   "cell_type": "code",
   "execution_count": 9,
   "id": "4a1edcf3-76f7-447d-bc2d-55385ebdfbff",
   "metadata": {},
   "outputs": [
    {
     "data": {
      "text/plain": [
       "{'users': [{'id': 1, 'name': 'Amit', 'friends': [2, 3], 'liked_pages': [101]},\n",
       "  {'id': 2, 'name': 'Priya', 'friends': [1, 4], 'liked_pages': [102]},\n",
       "  {'id': 3, 'name': 'Rahul', 'friends': [1], 'liked_pages': [101, 103]},\n",
       "  {'id': 4, 'name': 'Sara', 'friends': [2], 'liked_pages': [104]}],\n",
       " 'pages': [{'id': 101, 'name': 'Python Developers'},\n",
       "  {'id': 102, 'name': 'Data Science Enthusiasts'},\n",
       "  {'id': 103, 'name': 'AI & ML Community'},\n",
       "  {'id': 104, 'name': 'Web Dev Hub'}]}"
      ]
     },
     "execution_count": 9,
     "metadata": {},
     "output_type": "execute_result"
    }
   ],
   "source": [
    "data = load_data('data.json')\n",
    "data"
   ]
  },
  {
   "cell_type": "code",
   "execution_count": 10,
   "id": "8918a305-1487-487f-a73a-cb218a54cf2c",
   "metadata": {},
   "outputs": [
    {
     "data": {
      "text/plain": [
       "dict"
      ]
     },
     "execution_count": 10,
     "metadata": {},
     "output_type": "execute_result"
    }
   ],
   "source": [
    "type(data)"
   ]
  },
  {
   "cell_type": "code",
   "execution_count": 21,
   "id": "d258d31e-fa8d-47d4-88ef-ded347510560",
   "metadata": {},
   "outputs": [
    {
     "name": "stdout",
     "output_type": "stream",
     "text": [
      "Users and their connections\n",
      "ID:1- Amit is friends with: [2, 3] and liked pages are [101]\n",
      "ID:2- Priya is friends with: [1, 4] and liked pages are [102]\n",
      "ID:3- Rahul is friends with: [1] and liked pages are [101, 103]\n",
      "ID:4- Sara is friends with: [2] and liked pages are [104]\n",
      "\n",
      "Pages Information\n",
      "101: Python Developers\n",
      "102: Data Science Enthusiasts\n",
      "103: AI & ML Community\n",
      "104: Web Dev Hub\n"
     ]
    }
   ],
   "source": [
    "def display_users(data):\n",
    "    print(\"Users and their connections\")\n",
    "    for user in data['users']:\n",
    "        print(f\"ID:{user['id']}- {user['name']} is friends with: {user['friends']} and liked pages are {user['liked_pages']}\")\n",
    "    print(\"\\nPages Information\")\n",
    "    for page in data['pages']:\n",
    "        print(f\"{page['id']}: {page['name']}\")\n",
    "\n",
    "display_users(data)"
   ]
  }
 ],
 "metadata": {
  "kernelspec": {
   "display_name": "Python [conda env:base] *",
   "language": "python",
   "name": "conda-base-py"
  },
  "language_info": {
   "codemirror_mode": {
    "name": "ipython",
    "version": 3
   },
   "file_extension": ".py",
   "mimetype": "text/x-python",
   "name": "python",
   "nbconvert_exporter": "python",
   "pygments_lexer": "ipython3",
   "version": "3.13.5"
  }
 },
 "nbformat": 4,
 "nbformat_minor": 5
}
