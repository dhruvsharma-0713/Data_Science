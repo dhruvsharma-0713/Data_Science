{
 "cells": [
  {
   "cell_type": "markdown",
   "id": "262aed31-a296-4fd7-8402-12eef93d2db7",
   "metadata": {},
   "source": [
    "# Finding \"People You May Know\"\n",
    "\n",
    "## **Introduction**\n",
    "Now that our data is cleaned and structured, your manager assigns you a new task: **Build a 'People You May Know' feature!**\n",
    "\n",
    "In social networks, this feature helps users connect with others by suggesting friends based on mutual connections. Your job is to **analyze mutual friends and recommend potential connections**.\n",
    "\n",
    "---\n",
    "\n",
    "## **Task 1: Understand the Logic**\n",
    "### **How 'People You May Know' Works:**\n",
    "- If **User A** and **User B** are not friends but have **mutual friends**, we suggest User B to User A and vice versa.\n",
    "- More mutual friends = higher priority recommendation.\n",
    "\n",
    "Example:\n",
    "- **Amit (ID: 1)** is friends with **Priya (ID: 2)** and **Rahul (ID: 3)**.\n",
    "- **Priya (ID: 2)** is friends with **Sara (ID: 4)**.\n",
    "- Amit is not directly friends with Sara, but they share **Priya as a mutual friend**.\n",
    "- Suggest **Sara to Amit** as \"People You May Know\".\n",
    "\n",
    "---\n",
    "\n",
    "## **Task 2: Implement the Algorithm**\n",
    "We'll create a function that:\n",
    "1. Finds all friends of a given user.\n",
    "2. Identifies mutual friends between non-friends.\n",
    "3. Ranks recommendations by the number of mutual friends.\n"
   ]
  },
  {
   "cell_type": "code",
   "execution_count": 3,
   "id": "eff1bf74-a4eb-4466-ad58-6a2e5203d6b8",
   "metadata": {},
   "outputs": [
    {
     "name": "stdout",
     "output_type": "stream",
     "text": [
      "People You May Know for User 10: [11, 6, 4, 7, 14, 15, 18, 1, 2, 3, 13, 22]\n"
     ]
    }
   ],
   "source": [
    "import json\n",
    "\n",
    "def load_data(filename):\n",
    "    with open(filename, \"r\") as f:\n",
    "        return json.load(f)\n",
    "\n",
    "def find_people_you_may_know(user_id, data):\n",
    "    user_friends = {}\n",
    "    for user in data[\"users\"]:\n",
    "        user_friends[user[\"id\"]] = set(user[\"friends\"])\n",
    "    \n",
    "    if user_id not in user_friends:\n",
    "        return []\n",
    "    \n",
    "    direct_friends = user_friends[user_id]\n",
    "    suggestions = {}\n",
    "    \n",
    "    for friend in direct_friends:\n",
    "        for mutual in user_friends[friend]:\n",
    "            if mutual != user_id and mutual not in direct_friends:\n",
    "                suggestions[mutual] = suggestions.get(mutual, 0) + 1\n",
    "    \n",
    "    sorted_suggestions = sorted(suggestions.items(), key=lambda x: x[1], reverse=True)\n",
    "    return [user_id for user_id, _ in sorted_suggestions]\n",
    "\n",
    "\n",
    "data = load_data(\"massive_data.json\")\n",
    "user_id = 10\n",
    "recommendations = find_people_you_may_know(user_id, data)\n",
    "print(f\"People You May Know for User {user_id}: {recommendations}\")"
   ]
  },
  {
   "cell_type": "code",
   "execution_count": null,
   "id": "cfbc6470-7bf9-43be-9535-d18c35dbeff2",
   "metadata": {},
   "outputs": [],
   "source": []
  }
 ],
 "metadata": {
  "kernelspec": {
   "display_name": "Python [conda env:base] *",
   "language": "python",
   "name": "conda-base-py"
  },
  "language_info": {
   "codemirror_mode": {
    "name": "ipython",
    "version": 3
   },
   "file_extension": ".py",
   "mimetype": "text/x-python",
   "name": "python",
   "nbconvert_exporter": "python",
   "pygments_lexer": "ipython3",
   "version": "3.13.5"
  }
 },
 "nbformat": 4,
 "nbformat_minor": 5
}
