{
 "cells": [
  {
   "cell_type": "code",
   "execution_count": 1,
   "id": "37a7fa49-6b14-4994-adff-359522bac9bf",
   "metadata": {},
   "outputs": [],
   "source": [
    "from sklearn.ensemble import RandomForestClassifier"
   ]
  },
  {
   "cell_type": "code",
   "execution_count": 2,
   "id": "9f9880fa-6b48-4faf-bc3f-e9b779b5361d",
   "metadata": {},
   "outputs": [],
   "source": [
    "features = [[150, 0], [170, 0], [130, 1], [120, 1]]\n",
    "labels = [\"apple\", \"apple\", \"orange\", \"orange\"]"
   ]
  },
  {
   "cell_type": "code",
   "execution_count": 5,
   "id": "d6be077d-6413-420a-bc60-9e11b3bf2d8a",
   "metadata": {},
   "outputs": [],
   "source": [
    "clf = RandomForestClassifier()\n",
    "clf = clf.fit(features, labels)"
   ]
  },
  {
   "cell_type": "code",
   "execution_count": 6,
   "id": "1c706383-4b43-4056-a921-b169edb6e5ae",
   "metadata": {},
   "outputs": [
    {
     "name": "stdout",
     "output_type": "stream",
     "text": [
      "['apple']\n",
      "['orange']\n"
     ]
    }
   ],
   "source": [
    "print(clf.predict([[160, 0]]))\n",
    "print(clf.predict([[115, 1]]))"
   ]
  },
  {
   "cell_type": "code",
   "execution_count": null,
   "id": "82ac9e6e-e4c7-4ca6-8fe9-b1367e83868d",
   "metadata": {},
   "outputs": [],
   "source": []
  }
 ],
 "metadata": {
  "kernelspec": {
   "display_name": "Python [conda env:base] *",
   "language": "python",
   "name": "conda-base-py"
  },
  "language_info": {
   "codemirror_mode": {
    "name": "ipython",
    "version": 3
   },
   "file_extension": ".py",
   "mimetype": "text/x-python",
   "name": "python",
   "nbconvert_exporter": "python",
   "pygments_lexer": "ipython3",
   "version": "3.13.5"
  }
 },
 "nbformat": 4,
 "nbformat_minor": 5
}
