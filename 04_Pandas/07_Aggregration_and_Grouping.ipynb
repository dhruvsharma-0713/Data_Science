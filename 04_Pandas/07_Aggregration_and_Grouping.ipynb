{
 "cells": [
  {
   "cell_type": "code",
   "execution_count": 1,
   "id": "b1ae1927-a027-4598-814c-6f0b1395d546",
   "metadata": {},
   "outputs": [],
   "source": [
    "import pandas as pd"
   ]
  },
  {
   "cell_type": "code",
   "execution_count": 3,
   "id": "ea0bd527-fbaf-4739-a696-bd959a6aca71",
   "metadata": {},
   "outputs": [
    {
     "data": {
      "text/html": [
       "<div>\n",
       "<style scoped>\n",
       "    .dataframe tbody tr th:only-of-type {\n",
       "        vertical-align: middle;\n",
       "    }\n",
       "\n",
       "    .dataframe tbody tr th {\n",
       "        vertical-align: top;\n",
       "    }\n",
       "\n",
       "    .dataframe thead th {\n",
       "        text-align: right;\n",
       "    }\n",
       "</style>\n",
       "<table border=\"1\" class=\"dataframe\">\n",
       "  <thead>\n",
       "    <tr style=\"text-align: right;\">\n",
       "      <th></th>\n",
       "      <th>Department</th>\n",
       "      <th>Team</th>\n",
       "      <th>Gender</th>\n",
       "      <th>Salary(*1000)</th>\n",
       "      <th>Age</th>\n",
       "      <th>JoinDate</th>\n",
       "    </tr>\n",
       "  </thead>\n",
       "  <tbody>\n",
       "    <tr>\n",
       "      <th>0</th>\n",
       "      <td>HR</td>\n",
       "      <td>A</td>\n",
       "      <td>M</td>\n",
       "      <td>85</td>\n",
       "      <td>23</td>\n",
       "      <td>2020-01-10</td>\n",
       "    </tr>\n",
       "    <tr>\n",
       "      <th>1</th>\n",
       "      <td>HR</td>\n",
       "      <td>A</td>\n",
       "      <td>F</td>\n",
       "      <td>90</td>\n",
       "      <td>25</td>\n",
       "      <td>2020-02-15</td>\n",
       "    </tr>\n",
       "    <tr>\n",
       "      <th>2</th>\n",
       "      <td>IT</td>\n",
       "      <td>B</td>\n",
       "      <td>M</td>\n",
       "      <td>78</td>\n",
       "      <td>30</td>\n",
       "      <td>2021-03-20</td>\n",
       "    </tr>\n",
       "    <tr>\n",
       "      <th>3</th>\n",
       "      <td>IT</td>\n",
       "      <td>B</td>\n",
       "      <td>F</td>\n",
       "      <td>85</td>\n",
       "      <td>22</td>\n",
       "      <td>2021-04-10</td>\n",
       "    </tr>\n",
       "    <tr>\n",
       "      <th>4</th>\n",
       "      <td>Marketing</td>\n",
       "      <td>C</td>\n",
       "      <td>M</td>\n",
       "      <td>92</td>\n",
       "      <td>28</td>\n",
       "      <td>2020-05-30</td>\n",
       "    </tr>\n",
       "    <tr>\n",
       "      <th>5</th>\n",
       "      <td>Marketing</td>\n",
       "      <td>C</td>\n",
       "      <td>F</td>\n",
       "      <td>88</td>\n",
       "      <td>26</td>\n",
       "      <td>2020-06-25</td>\n",
       "    </tr>\n",
       "    <tr>\n",
       "      <th>6</th>\n",
       "      <td>Sales</td>\n",
       "      <td>D</td>\n",
       "      <td>M</td>\n",
       "      <td>75</td>\n",
       "      <td>21</td>\n",
       "      <td>2021-07-15</td>\n",
       "    </tr>\n",
       "    <tr>\n",
       "      <th>7</th>\n",
       "      <td>Sales</td>\n",
       "      <td>D</td>\n",
       "      <td>F</td>\n",
       "      <td>80</td>\n",
       "      <td>27</td>\n",
       "      <td>2021-08-01</td>\n",
       "    </tr>\n",
       "  </tbody>\n",
       "</table>\n",
       "</div>"
      ],
      "text/plain": [
       "  Department Team Gender  Salary(*1000)  Age   JoinDate\n",
       "0         HR    A      M             85   23 2020-01-10\n",
       "1         HR    A      F             90   25 2020-02-15\n",
       "2         IT    B      M             78   30 2021-03-20\n",
       "3         IT    B      F             85   22 2021-04-10\n",
       "4  Marketing    C      M             92   28 2020-05-30\n",
       "5  Marketing    C      F             88   26 2020-06-25\n",
       "6      Sales    D      M             75   21 2021-07-15\n",
       "7      Sales    D      F             80   27 2021-08-01"
      ]
     },
     "execution_count": 3,
     "metadata": {},
     "output_type": "execute_result"
    }
   ],
   "source": [
    "df = pd.DataFrame({\n",
    "    \"Department\": [\"HR\", \"HR\", \"IT\", \"IT\", \"Marketing\", \"Marketing\", \"Sales\", \"Sales\"],\n",
    "    \"Team\": [\"A\", \"A\", \"B\", \"B\", \"C\", \"C\", \"D\", \"D\"],\n",
    "    \"Gender\": [\"M\", \"F\", \"M\", \"F\", \"M\", \"F\", \"M\", \"F\"],\n",
    "    \"Salary(*1000)\": [85, 90, 78, 85, 92, 88, 75, 80],\n",
    "    \"Age\": [23, 25, 30, 22, 28, 26, 21, 27],\n",
    "    \"JoinDate\": pd.to_datetime([\"2020-01-10\", \"2020-02-15\", \"2021-03-20\", \"2021-04-10\", \"2020-05-30\", \"2020-06-25\", \"2021-07-15\", \"2021-08-01\"])\n",
    "})\n",
    "df"
   ]
  },
  {
   "cell_type": "code",
   "execution_count": 5,
   "id": "a607418e-4edd-4426-9e3c-0f655e89d08c",
   "metadata": {},
   "outputs": [
    {
     "data": {
      "text/plain": [
       "Department\n",
       "HR           87.5\n",
       "IT           81.5\n",
       "Marketing    90.0\n",
       "Sales        77.5\n",
       "Name: Salary(*1000), dtype: float64"
      ]
     },
     "execution_count": 5,
     "metadata": {},
     "output_type": "execute_result"
    }
   ],
   "source": [
    "df.groupby(\"Department\")[\"Salary(*1000)\"].mean()"
   ]
  },
  {
   "cell_type": "code",
   "execution_count": 6,
   "id": "79098d4e-6f84-4d10-a729-55c2719295b4",
   "metadata": {},
   "outputs": [
    {
     "data": {
      "text/plain": [
       "pandas.core.series.Series"
      ]
     },
     "execution_count": 6,
     "metadata": {},
     "output_type": "execute_result"
    }
   ],
   "source": [
    "type(df.groupby(\"Department\")[\"Salary(*1000)\"].mean())"
   ]
  },
  {
   "cell_type": "code",
   "execution_count": 8,
   "id": "819a8021-9f8a-4e2d-9e24-d8caed80cf6b",
   "metadata": {},
   "outputs": [
    {
     "data": {
      "text/plain": [
       "Team\n",
       "A    87.5\n",
       "B    81.5\n",
       "C    90.0\n",
       "D    77.5\n",
       "Name: Salary(*1000), dtype: float64"
      ]
     },
     "execution_count": 8,
     "metadata": {},
     "output_type": "execute_result"
    }
   ],
   "source": [
    "df.groupby(\"Team\")[\"Salary(*1000)\"].mean()"
   ]
  },
  {
   "cell_type": "code",
   "execution_count": 9,
   "id": "094afa30-86ac-4b7d-b355-5d32a4d5c47a",
   "metadata": {},
   "outputs": [
    {
     "data": {
      "text/plain": [
       "Team\n",
       "A    175\n",
       "B    163\n",
       "C    180\n",
       "D    155\n",
       "Name: Salary(*1000), dtype: int64"
      ]
     },
     "execution_count": 9,
     "metadata": {},
     "output_type": "execute_result"
    }
   ],
   "source": [
    "df.groupby(\"Team\")[\"Salary(*1000)\"].sum()"
   ]
  },
  {
   "cell_type": "code",
   "execution_count": 10,
   "id": "0e126a09-228b-4472-9a7c-a22c2e50f3db",
   "metadata": {},
   "outputs": [
    {
     "data": {
      "text/plain": [
       "Team\n",
       "A    2\n",
       "B    2\n",
       "C    2\n",
       "D    2\n",
       "Name: Salary(*1000), dtype: int64"
      ]
     },
     "execution_count": 10,
     "metadata": {},
     "output_type": "execute_result"
    }
   ],
   "source": [
    "df.groupby(\"Team\")[\"Salary(*1000)\"].count()"
   ]
  },
  {
   "cell_type": "code",
   "execution_count": 11,
   "id": "950a55de-3e71-41e5-a165-fe536ae1fcc2",
   "metadata": {},
   "outputs": [
    {
     "data": {
      "text/plain": [
       "Team\n",
       "A    85\n",
       "B    78\n",
       "C    88\n",
       "D    75\n",
       "Name: Salary(*1000), dtype: int64"
      ]
     },
     "execution_count": 11,
     "metadata": {},
     "output_type": "execute_result"
    }
   ],
   "source": [
    "df.groupby(\"Team\")[\"Salary(*1000)\"].min()"
   ]
  },
  {
   "cell_type": "code",
   "execution_count": 12,
   "id": "d7c85923-0e9f-4194-b168-f64ed826282a",
   "metadata": {},
   "outputs": [
    {
     "data": {
      "text/plain": [
       "Team\n",
       "A    90\n",
       "B    85\n",
       "C    92\n",
       "D    80\n",
       "Name: Salary(*1000), dtype: int64"
      ]
     },
     "execution_count": 12,
     "metadata": {},
     "output_type": "execute_result"
    }
   ],
   "source": [
    "df.groupby(\"Team\")[\"Salary(*1000)\"].max()"
   ]
  },
  {
   "cell_type": "code",
   "execution_count": 13,
   "id": "61b1c3e4-07ce-4b99-9a3c-7b8dab481457",
   "metadata": {},
   "outputs": [
    {
     "data": {
      "text/html": [
       "<div>\n",
       "<style scoped>\n",
       "    .dataframe tbody tr th:only-of-type {\n",
       "        vertical-align: middle;\n",
       "    }\n",
       "\n",
       "    .dataframe tbody tr th {\n",
       "        vertical-align: top;\n",
       "    }\n",
       "\n",
       "    .dataframe thead th {\n",
       "        text-align: right;\n",
       "    }\n",
       "</style>\n",
       "<table border=\"1\" class=\"dataframe\">\n",
       "  <thead>\n",
       "    <tr style=\"text-align: right;\">\n",
       "      <th></th>\n",
       "      <th>mean</th>\n",
       "      <th>max</th>\n",
       "      <th>min</th>\n",
       "    </tr>\n",
       "    <tr>\n",
       "      <th>Team</th>\n",
       "      <th></th>\n",
       "      <th></th>\n",
       "      <th></th>\n",
       "    </tr>\n",
       "  </thead>\n",
       "  <tbody>\n",
       "    <tr>\n",
       "      <th>A</th>\n",
       "      <td>87.5</td>\n",
       "      <td>90</td>\n",
       "      <td>85</td>\n",
       "    </tr>\n",
       "    <tr>\n",
       "      <th>B</th>\n",
       "      <td>81.5</td>\n",
       "      <td>85</td>\n",
       "      <td>78</td>\n",
       "    </tr>\n",
       "    <tr>\n",
       "      <th>C</th>\n",
       "      <td>90.0</td>\n",
       "      <td>92</td>\n",
       "      <td>88</td>\n",
       "    </tr>\n",
       "    <tr>\n",
       "      <th>D</th>\n",
       "      <td>77.5</td>\n",
       "      <td>80</td>\n",
       "      <td>75</td>\n",
       "    </tr>\n",
       "  </tbody>\n",
       "</table>\n",
       "</div>"
      ],
      "text/plain": [
       "      mean  max  min\n",
       "Team                \n",
       "A     87.5   90   85\n",
       "B     81.5   85   78\n",
       "C     90.0   92   88\n",
       "D     77.5   80   75"
      ]
     },
     "execution_count": 13,
     "metadata": {},
     "output_type": "execute_result"
    }
   ],
   "source": [
    "df.groupby(\"Team\")[\"Salary(*1000)\"].agg([\"mean\", \"max\", \"min\"])"
   ]
  },
  {
   "cell_type": "code",
   "execution_count": 14,
   "id": "c62af289-ec6b-4b99-85bc-517e8f1a9c10",
   "metadata": {},
   "outputs": [
    {
     "data": {
      "text/plain": [
       "pandas.core.frame.DataFrame"
      ]
     },
     "execution_count": 14,
     "metadata": {},
     "output_type": "execute_result"
    }
   ],
   "source": [
    "type(df.groupby(\"Team\")[\"Salary(*1000)\"].agg([\"mean\", \"max\", \"min\"]))"
   ]
  },
  {
   "cell_type": "code",
   "execution_count": 15,
   "id": "ac57f34d-db58-49ce-b31e-77e939165858",
   "metadata": {},
   "outputs": [
    {
     "data": {
      "text/html": [
       "<div>\n",
       "<style scoped>\n",
       "    .dataframe tbody tr th:only-of-type {\n",
       "        vertical-align: middle;\n",
       "    }\n",
       "\n",
       "    .dataframe tbody tr th {\n",
       "        vertical-align: top;\n",
       "    }\n",
       "\n",
       "    .dataframe thead th {\n",
       "        text-align: right;\n",
       "    }\n",
       "</style>\n",
       "<table border=\"1\" class=\"dataframe\">\n",
       "  <thead>\n",
       "    <tr style=\"text-align: right;\">\n",
       "      <th></th>\n",
       "      <th>avg_score</th>\n",
       "      <th>high_score</th>\n",
       "    </tr>\n",
       "    <tr>\n",
       "      <th>Team</th>\n",
       "      <th></th>\n",
       "      <th></th>\n",
       "    </tr>\n",
       "  </thead>\n",
       "  <tbody>\n",
       "    <tr>\n",
       "      <th>A</th>\n",
       "      <td>87.5</td>\n",
       "      <td>90</td>\n",
       "    </tr>\n",
       "    <tr>\n",
       "      <th>B</th>\n",
       "      <td>81.5</td>\n",
       "      <td>85</td>\n",
       "    </tr>\n",
       "    <tr>\n",
       "      <th>C</th>\n",
       "      <td>90.0</td>\n",
       "      <td>92</td>\n",
       "    </tr>\n",
       "    <tr>\n",
       "      <th>D</th>\n",
       "      <td>77.5</td>\n",
       "      <td>80</td>\n",
       "    </tr>\n",
       "  </tbody>\n",
       "</table>\n",
       "</div>"
      ],
      "text/plain": [
       "      avg_score  high_score\n",
       "Team                       \n",
       "A          87.5          90\n",
       "B          81.5          85\n",
       "C          90.0          92\n",
       "D          77.5          80"
      ]
     },
     "execution_count": 15,
     "metadata": {},
     "output_type": "execute_result"
    }
   ],
   "source": [
    "df.groupby(\"Team\")[\"Salary(*1000)\"].agg(\n",
    "    avg_score=\"mean\",\n",
    "    high_score=\"max\"\n",
    ")"
   ]
  },
  {
   "cell_type": "code",
   "execution_count": 16,
   "id": "4cd06a4a-c8fb-40b9-93b9-b3756acf95d3",
   "metadata": {},
   "outputs": [
    {
     "data": {
      "text/html": [
       "<div>\n",
       "<style scoped>\n",
       "    .dataframe tbody tr th:only-of-type {\n",
       "        vertical-align: middle;\n",
       "    }\n",
       "\n",
       "    .dataframe tbody tr th {\n",
       "        vertical-align: top;\n",
       "    }\n",
       "\n",
       "    .dataframe thead th {\n",
       "        text-align: right;\n",
       "    }\n",
       "</style>\n",
       "<table border=\"1\" class=\"dataframe\">\n",
       "  <thead>\n",
       "    <tr style=\"text-align: right;\">\n",
       "      <th></th>\n",
       "      <th>avg_score</th>\n",
       "      <th>high_score</th>\n",
       "    </tr>\n",
       "    <tr>\n",
       "      <th>Team</th>\n",
       "      <th></th>\n",
       "      <th></th>\n",
       "    </tr>\n",
       "  </thead>\n",
       "  <tbody>\n",
       "    <tr>\n",
       "      <th>A</th>\n",
       "      <td>87.5</td>\n",
       "      <td>90</td>\n",
       "    </tr>\n",
       "    <tr>\n",
       "      <th>B</th>\n",
       "      <td>81.5</td>\n",
       "      <td>85</td>\n",
       "    </tr>\n",
       "    <tr>\n",
       "      <th>C</th>\n",
       "      <td>90.0</td>\n",
       "      <td>92</td>\n",
       "    </tr>\n",
       "    <tr>\n",
       "      <th>D</th>\n",
       "      <td>77.5</td>\n",
       "      <td>80</td>\n",
       "    </tr>\n",
       "  </tbody>\n",
       "</table>\n",
       "</div>"
      ],
      "text/plain": [
       "      avg_score  high_score\n",
       "Team                       \n",
       "A          87.5          90\n",
       "B          81.5          85\n",
       "C          90.0          92\n",
       "D          77.5          80"
      ]
     },
     "execution_count": 16,
     "metadata": {},
     "output_type": "execute_result"
    }
   ],
   "source": [
    "df.groupby(\"Team\")[\"Salary(*1000)\"].aggregate(\n",
    "    avg_score=\"mean\",\n",
    "    high_score=\"max\"\n",
    ")"
   ]
  },
  {
   "cell_type": "code",
   "execution_count": 17,
   "id": "52ab70f6-ff2b-42d5-81e6-7a475914d672",
   "metadata": {},
   "outputs": [
    {
     "data": {
      "text/html": [
       "<div>\n",
       "<style scoped>\n",
       "    .dataframe tbody tr th:only-of-type {\n",
       "        vertical-align: middle;\n",
       "    }\n",
       "\n",
       "    .dataframe tbody tr th {\n",
       "        vertical-align: top;\n",
       "    }\n",
       "\n",
       "    .dataframe thead th {\n",
       "        text-align: right;\n",
       "    }\n",
       "</style>\n",
       "<table border=\"1\" class=\"dataframe\">\n",
       "  <thead>\n",
       "    <tr style=\"text-align: right;\">\n",
       "      <th></th>\n",
       "      <th>Department</th>\n",
       "      <th>Team</th>\n",
       "      <th>Gender</th>\n",
       "      <th>Salary(*1000)</th>\n",
       "      <th>Age</th>\n",
       "      <th>JoinDate</th>\n",
       "      <th>Team Avg</th>\n",
       "    </tr>\n",
       "  </thead>\n",
       "  <tbody>\n",
       "    <tr>\n",
       "      <th>0</th>\n",
       "      <td>HR</td>\n",
       "      <td>A</td>\n",
       "      <td>M</td>\n",
       "      <td>85</td>\n",
       "      <td>23</td>\n",
       "      <td>2020-01-10</td>\n",
       "      <td>87.5</td>\n",
       "    </tr>\n",
       "    <tr>\n",
       "      <th>1</th>\n",
       "      <td>HR</td>\n",
       "      <td>A</td>\n",
       "      <td>F</td>\n",
       "      <td>90</td>\n",
       "      <td>25</td>\n",
       "      <td>2020-02-15</td>\n",
       "      <td>87.5</td>\n",
       "    </tr>\n",
       "    <tr>\n",
       "      <th>2</th>\n",
       "      <td>IT</td>\n",
       "      <td>B</td>\n",
       "      <td>M</td>\n",
       "      <td>78</td>\n",
       "      <td>30</td>\n",
       "      <td>2021-03-20</td>\n",
       "      <td>81.5</td>\n",
       "    </tr>\n",
       "    <tr>\n",
       "      <th>3</th>\n",
       "      <td>IT</td>\n",
       "      <td>B</td>\n",
       "      <td>F</td>\n",
       "      <td>85</td>\n",
       "      <td>22</td>\n",
       "      <td>2021-04-10</td>\n",
       "      <td>81.5</td>\n",
       "    </tr>\n",
       "    <tr>\n",
       "      <th>4</th>\n",
       "      <td>Marketing</td>\n",
       "      <td>C</td>\n",
       "      <td>M</td>\n",
       "      <td>92</td>\n",
       "      <td>28</td>\n",
       "      <td>2020-05-30</td>\n",
       "      <td>90.0</td>\n",
       "    </tr>\n",
       "    <tr>\n",
       "      <th>5</th>\n",
       "      <td>Marketing</td>\n",
       "      <td>C</td>\n",
       "      <td>F</td>\n",
       "      <td>88</td>\n",
       "      <td>26</td>\n",
       "      <td>2020-06-25</td>\n",
       "      <td>90.0</td>\n",
       "    </tr>\n",
       "    <tr>\n",
       "      <th>6</th>\n",
       "      <td>Sales</td>\n",
       "      <td>D</td>\n",
       "      <td>M</td>\n",
       "      <td>75</td>\n",
       "      <td>21</td>\n",
       "      <td>2021-07-15</td>\n",
       "      <td>77.5</td>\n",
       "    </tr>\n",
       "    <tr>\n",
       "      <th>7</th>\n",
       "      <td>Sales</td>\n",
       "      <td>D</td>\n",
       "      <td>F</td>\n",
       "      <td>80</td>\n",
       "      <td>27</td>\n",
       "      <td>2021-08-01</td>\n",
       "      <td>77.5</td>\n",
       "    </tr>\n",
       "  </tbody>\n",
       "</table>\n",
       "</div>"
      ],
      "text/plain": [
       "  Department Team Gender  Salary(*1000)  Age   JoinDate  Team Avg\n",
       "0         HR    A      M             85   23 2020-01-10      87.5\n",
       "1         HR    A      F             90   25 2020-02-15      87.5\n",
       "2         IT    B      M             78   30 2021-03-20      81.5\n",
       "3         IT    B      F             85   22 2021-04-10      81.5\n",
       "4  Marketing    C      M             92   28 2020-05-30      90.0\n",
       "5  Marketing    C      F             88   26 2020-06-25      90.0\n",
       "6      Sales    D      M             75   21 2021-07-15      77.5\n",
       "7      Sales    D      F             80   27 2021-08-01      77.5"
      ]
     },
     "execution_count": 17,
     "metadata": {},
     "output_type": "execute_result"
    }
   ],
   "source": [
    "df[\"Team Avg\"] = df.groupby(\"Team\")[\"Salary(*1000)\"].transform(\"mean\")\n",
    "df"
   ]
  },
  {
   "cell_type": "code",
   "execution_count": 19,
   "id": "a3168c7e-84ee-4cbf-9bfb-71f53e720a45",
   "metadata": {},
   "outputs": [
    {
     "data": {
      "text/html": [
       "<div>\n",
       "<style scoped>\n",
       "    .dataframe tbody tr th:only-of-type {\n",
       "        vertical-align: middle;\n",
       "    }\n",
       "\n",
       "    .dataframe tbody tr th {\n",
       "        vertical-align: top;\n",
       "    }\n",
       "\n",
       "    .dataframe thead th {\n",
       "        text-align: right;\n",
       "    }\n",
       "</style>\n",
       "<table border=\"1\" class=\"dataframe\">\n",
       "  <thead>\n",
       "    <tr style=\"text-align: right;\">\n",
       "      <th></th>\n",
       "      <th>Department</th>\n",
       "      <th>Team</th>\n",
       "      <th>Gender</th>\n",
       "      <th>Salary(*1000)</th>\n",
       "      <th>Age</th>\n",
       "      <th>JoinDate</th>\n",
       "      <th>Team Avg</th>\n",
       "    </tr>\n",
       "  </thead>\n",
       "  <tbody>\n",
       "    <tr>\n",
       "      <th>0</th>\n",
       "      <td>HR</td>\n",
       "      <td>A</td>\n",
       "      <td>M</td>\n",
       "      <td>85</td>\n",
       "      <td>23</td>\n",
       "      <td>2020-01-10</td>\n",
       "      <td>87.5</td>\n",
       "    </tr>\n",
       "    <tr>\n",
       "      <th>1</th>\n",
       "      <td>HR</td>\n",
       "      <td>A</td>\n",
       "      <td>F</td>\n",
       "      <td>90</td>\n",
       "      <td>25</td>\n",
       "      <td>2020-02-15</td>\n",
       "      <td>87.5</td>\n",
       "    </tr>\n",
       "    <tr>\n",
       "      <th>2</th>\n",
       "      <td>IT</td>\n",
       "      <td>B</td>\n",
       "      <td>M</td>\n",
       "      <td>78</td>\n",
       "      <td>30</td>\n",
       "      <td>2021-03-20</td>\n",
       "      <td>81.5</td>\n",
       "    </tr>\n",
       "    <tr>\n",
       "      <th>3</th>\n",
       "      <td>IT</td>\n",
       "      <td>B</td>\n",
       "      <td>F</td>\n",
       "      <td>85</td>\n",
       "      <td>22</td>\n",
       "      <td>2021-04-10</td>\n",
       "      <td>81.5</td>\n",
       "    </tr>\n",
       "    <tr>\n",
       "      <th>4</th>\n",
       "      <td>Marketing</td>\n",
       "      <td>C</td>\n",
       "      <td>M</td>\n",
       "      <td>92</td>\n",
       "      <td>28</td>\n",
       "      <td>2020-05-30</td>\n",
       "      <td>90.0</td>\n",
       "    </tr>\n",
       "    <tr>\n",
       "      <th>5</th>\n",
       "      <td>Marketing</td>\n",
       "      <td>C</td>\n",
       "      <td>F</td>\n",
       "      <td>88</td>\n",
       "      <td>26</td>\n",
       "      <td>2020-06-25</td>\n",
       "      <td>90.0</td>\n",
       "    </tr>\n",
       "    <tr>\n",
       "      <th>6</th>\n",
       "      <td>Sales</td>\n",
       "      <td>D</td>\n",
       "      <td>M</td>\n",
       "      <td>75</td>\n",
       "      <td>21</td>\n",
       "      <td>2021-07-15</td>\n",
       "      <td>77.5</td>\n",
       "    </tr>\n",
       "    <tr>\n",
       "      <th>7</th>\n",
       "      <td>Sales</td>\n",
       "      <td>D</td>\n",
       "      <td>F</td>\n",
       "      <td>80</td>\n",
       "      <td>27</td>\n",
       "      <td>2021-08-01</td>\n",
       "      <td>77.5</td>\n",
       "    </tr>\n",
       "  </tbody>\n",
       "</table>\n",
       "</div>"
      ],
      "text/plain": [
       "  Department Team Gender  Salary(*1000)  Age   JoinDate  Team Avg\n",
       "0         HR    A      M             85   23 2020-01-10      87.5\n",
       "1         HR    A      F             90   25 2020-02-15      87.5\n",
       "2         IT    B      M             78   30 2021-03-20      81.5\n",
       "3         IT    B      F             85   22 2021-04-10      81.5\n",
       "4  Marketing    C      M             92   28 2020-05-30      90.0\n",
       "5  Marketing    C      F             88   26 2020-06-25      90.0\n",
       "6      Sales    D      M             75   21 2021-07-15      77.5\n",
       "7      Sales    D      F             80   27 2021-08-01      77.5"
      ]
     },
     "execution_count": 19,
     "metadata": {},
     "output_type": "execute_result"
    }
   ],
   "source": [
    "df.groupby(\"Team\").filter(lambda x: x[\"Salary(*1000)\"].mean() > 85)\n",
    "df"
   ]
  },
  {
   "cell_type": "code",
   "execution_count": null,
   "id": "4e5165c9-cc62-4691-8a9e-0d426b0fb12a",
   "metadata": {},
   "outputs": [],
   "source": []
  }
 ],
 "metadata": {
  "kernelspec": {
   "display_name": "Python [conda env:base] *",
   "language": "python",
   "name": "conda-base-py"
  },
  "language_info": {
   "codemirror_mode": {
    "name": "ipython",
    "version": 3
   },
   "file_extension": ".py",
   "mimetype": "text/x-python",
   "name": "python",
   "nbconvert_exporter": "python",
   "pygments_lexer": "ipython3",
   "version": "3.13.5"
  }
 },
 "nbformat": 4,
 "nbformat_minor": 5
}
