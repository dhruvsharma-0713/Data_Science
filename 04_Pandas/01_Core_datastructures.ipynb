{
 "cells": [
  {
   "cell_type": "code",
   "execution_count": 1,
   "id": "0cc2ba1c-7db4-46af-95a8-452bf3ca49a7",
   "metadata": {},
   "outputs": [],
   "source": [
    "import pandas as pd"
   ]
  },
  {
   "cell_type": "code",
   "execution_count": 4,
   "id": "520301c8-cc31-44c5-83bb-4b8d338659ea",
   "metadata": {},
   "outputs": [
    {
     "name": "stdout",
     "output_type": "stream",
     "text": [
      "0    71\n",
      "1    84\n",
      "2    56\n",
      "3    23\n",
      "4    56\n",
      "5    98\n",
      "6    56\n",
      "dtype: int64\n"
     ]
    }
   ],
   "source": [
    "s1 = pd.Series([71, 84, 56, 23, 56, 98, 56])\n",
    "print(s1)"
   ]
  },
  {
   "cell_type": "code",
   "execution_count": 3,
   "id": "f956fd5c-9136-442b-b43d-c33713ea2d20",
   "metadata": {},
   "outputs": [
    {
     "data": {
      "text/plain": [
       "pandas.core.series.Series"
      ]
     },
     "execution_count": 3,
     "metadata": {},
     "output_type": "execute_result"
    }
   ],
   "source": [
    "type(s)"
   ]
  },
  {
   "cell_type": "code",
   "execution_count": 5,
   "id": "0253085b-cea1-4b7f-bb76-5b41acf2f5c2",
   "metadata": {},
   "outputs": [
    {
     "name": "stdout",
     "output_type": "stream",
     "text": [
      "Dhruv       71\n",
      "Anuj        84\n",
      "Ujwal       56\n",
      "Akhil       23\n",
      "Arun        56\n",
      "Vishal      98\n",
      "Abhishek    56\n",
      "dtype: int64\n"
     ]
    }
   ],
   "source": [
    "s2 = pd.Series([71, 84, 56, 23, 56, 98, 56], index=['Dhruv', 'Anuj', 'Ujwal', 'Akhil', 'Arun', 'Vishal', 'Abhishek'])\n",
    "print(s2)"
   ]
  },
  {
   "cell_type": "code",
   "execution_count": 6,
   "id": "e07709bd-6afc-4969-8eaa-b19350162f9e",
   "metadata": {},
   "outputs": [
    {
     "data": {
      "text/plain": [
       "np.int64(56)"
      ]
     },
     "execution_count": 6,
     "metadata": {},
     "output_type": "execute_result"
    }
   ],
   "source": [
    "s2['Arun']"
   ]
  },
  {
   "cell_type": "code",
   "execution_count": 7,
   "id": "dd6d0bd7-81b7-459c-8b21-9dc155c6acf1",
   "metadata": {},
   "outputs": [
    {
     "data": {
      "text/plain": [
       "np.int64(98)"
      ]
     },
     "execution_count": 7,
     "metadata": {},
     "output_type": "execute_result"
    }
   ],
   "source": [
    "s2['Vishal']"
   ]
  },
  {
   "cell_type": "code",
   "execution_count": 11,
   "id": "0656a73e-3e59-43f9-af27-170c71a7c452",
   "metadata": {},
   "outputs": [],
   "source": [
    "data = {\n",
    "    \"Name\": [\"Dhruv\", \"Arun\", \"Akhil\", \"Abhishek\"],\n",
    "    \"Age\": [22, 24, 20, 30],\n",
    "    \"City\": [\"Gurgao\", \"Delhi\", \"Greater-Noida\", \"Bulandshahr\"]\n",
    "}"
   ]
  },
  {
   "cell_type": "code",
   "execution_count": 13,
   "id": "44a01339-2fc7-48c0-b4d1-b3a7092fa093",
   "metadata": {},
   "outputs": [
    {
     "name": "stdout",
     "output_type": "stream",
     "text": [
      "       Name  Age           City\n",
      "0     Dhruv   22         Gurgao\n",
      "1      Arun   24          Delhi\n",
      "2     Akhil   20  Greater-Noida\n",
      "3  Abhishek   30    Bulandshahr\n"
     ]
    }
   ],
   "source": [
    "df = pd.DataFrame(data)\n",
    "print(df)"
   ]
  },
  {
   "cell_type": "code",
   "execution_count": null,
   "id": "40a4db62-09aa-4025-a908-83cce3b4668e",
   "metadata": {},
   "outputs": [],
   "source": []
  }
 ],
 "metadata": {
  "kernelspec": {
   "display_name": "Python [conda env:base] *",
   "language": "python",
   "name": "conda-base-py"
  },
  "language_info": {
   "codemirror_mode": {
    "name": "ipython",
    "version": 3
   },
   "file_extension": ".py",
   "mimetype": "text/x-python",
   "name": "python",
   "nbconvert_exporter": "python",
   "pygments_lexer": "ipython3",
   "version": "3.13.5"
  }
 },
 "nbformat": 4,
 "nbformat_minor": 5
}
