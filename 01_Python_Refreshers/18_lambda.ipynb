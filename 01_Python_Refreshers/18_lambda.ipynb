{
 "cells": [
  {
   "cell_type": "code",
   "execution_count": 1,
   "id": "90e1bd42-fc3c-4314-a516-c86bf518349f",
   "metadata": {},
   "outputs": [],
   "source": [
    "cube = lambda x:x*x*x"
   ]
  },
  {
   "cell_type": "code",
   "execution_count": 2,
   "id": "ac29318d-4b70-4cfe-a45a-d18986f6f532",
   "metadata": {},
   "outputs": [
    {
     "data": {
      "text/plain": [
       "64"
      ]
     },
     "execution_count": 2,
     "metadata": {},
     "output_type": "execute_result"
    }
   ],
   "source": [
    "cube(4)"
   ]
  },
  {
   "cell_type": "code",
   "execution_count": 3,
   "id": "24de58ee-594b-44a7-8b40-3842ed0c2ef5",
   "metadata": {},
   "outputs": [],
   "source": [
    "s = lambda a, b: a+b"
   ]
  },
  {
   "cell_type": "code",
   "execution_count": 5,
   "id": "7e641617-4830-4d80-8418-567b110bbef4",
   "metadata": {},
   "outputs": [
    {
     "data": {
      "text/plain": [
       "20"
      ]
     },
     "execution_count": 5,
     "metadata": {},
     "output_type": "execute_result"
    }
   ],
   "source": [
    "s(13, 7)"
   ]
  },
  {
   "cell_type": "code",
   "execution_count": null,
   "id": "d385db5c-77ec-466d-811e-3183730e7663",
   "metadata": {},
   "outputs": [],
   "source": []
  }
 ],
 "metadata": {
  "kernelspec": {
   "display_name": "Python [conda env:base] *",
   "language": "python",
   "name": "conda-base-py"
  },
  "language_info": {
   "codemirror_mode": {
    "name": "ipython",
    "version": 3
   },
   "file_extension": ".py",
   "mimetype": "text/x-python",
   "name": "python",
   "nbconvert_exporter": "python",
   "pygments_lexer": "ipython3",
   "version": "3.13.5"
  }
 },
 "nbformat": 4,
 "nbformat_minor": 5
}
