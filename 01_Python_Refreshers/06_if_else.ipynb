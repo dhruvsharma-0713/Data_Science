{
 "cells": [
  {
   "cell_type": "code",
   "execution_count": 1,
   "id": "594e6b87-835e-4572-a186-0ee6cee2c970",
   "metadata": {},
   "outputs": [],
   "source": [
    "a = 4"
   ]
  },
  {
   "cell_type": "code",
   "execution_count": 4,
   "id": "c9ad31d0-b469-480e-9c74-2e3e8d48ae5d",
   "metadata": {},
   "outputs": [
    {
     "name": "stdout",
     "output_type": "stream",
     "text": [
      "Smaller\n"
     ]
    }
   ],
   "source": [
    "if(a>53):\n",
    "    print('Greater')\n",
    "else:\n",
    "    print('Smaller')"
   ]
  },
  {
   "cell_type": "code",
   "execution_count": 5,
   "id": "35518235-ce27-4ece-86ac-0b460bee52de",
   "metadata": {},
   "outputs": [],
   "source": [
    "b = 400"
   ]
  },
  {
   "cell_type": "code",
   "execution_count": 6,
   "id": "7dd7d047-94be-41b7-b471-50d4e17f008a",
   "metadata": {},
   "outputs": [
    {
     "name": "stdout",
     "output_type": "stream",
     "text": [
      "Greater\n"
     ]
    }
   ],
   "source": [
    "if(b>53):\n",
    "    print('Greater')\n",
    "else:\n",
    "    print('Smaller')"
   ]
  },
  {
   "cell_type": "code",
   "execution_count": 9,
   "id": "714e2e20-1dab-41ad-824b-b8834c368cae",
   "metadata": {},
   "outputs": [
    {
     "name": "stdout",
     "output_type": "stream",
     "text": [
      "greater than 40\n"
     ]
    }
   ],
   "source": [
    "a = 42\n",
    "if a>50:\n",
    "    print('greater than 50')\n",
    "elif(a>40):\n",
    "    print('greater than 40')\n",
    "elif(a>30):\n",
    "    print('greater than 30')\n",
    "else:\n",
    "    print('Done!')"
   ]
  },
  {
   "cell_type": "code",
   "execution_count": 10,
   "id": "9782c530-62f8-4976-8d07-0f094223fa28",
   "metadata": {},
   "outputs": [
    {
     "name": "stdout",
     "output_type": "stream",
     "text": [
      "Done!\n"
     ]
    }
   ],
   "source": [
    "a = 29\n",
    "if a>50:\n",
    "    print('greater than 50')\n",
    "elif(a>40):\n",
    "    print('greater than 40')\n",
    "elif(a>30):\n",
    "    print('greater than 30')\n",
    "else:\n",
    "    print('Done!')"
   ]
  },
  {
   "cell_type": "code",
   "execution_count": 12,
   "id": "dae4145e-4bba-4b35-acea-b1685cf8a6ca",
   "metadata": {},
   "outputs": [
    {
     "name": "stdout",
     "output_type": "stream",
     "text": [
      "greater than 30\n"
     ]
    }
   ],
   "source": [
    "a = 31\n",
    "if a>50:\n",
    "    print('greater than 50')\n",
    "elif(a>40):\n",
    "    print('greater than 40')\n",
    "elif(a>30):\n",
    "    print('greater than 30')\n",
    "else:\n",
    "    print('Done!')"
   ]
  },
  {
   "cell_type": "code",
   "execution_count": 15,
   "id": "a8a888b1-9ece-499b-957a-98d725cab14c",
   "metadata": {},
   "outputs": [
    {
     "name": "stdout",
     "output_type": "stream",
     "text": [
      "      name  Score Result\n",
      "0    Alice     85   pass\n",
      "1      Bob     40   fail\n",
      "2  Charlie     75   pass\n"
     ]
    }
   ],
   "source": [
    "import pandas as pd\n",
    "data = {'name':['Alice','Bob','Charlie'], 'Score':[85, 40, 75]}\n",
    "df = pd.DataFrame(data)\n",
    "df['Result'] = df['Score'].apply(lambda x: 'pass' if x >= 50 else 'fail')\n",
    "print(df)"
   ]
  },
  {
   "cell_type": "code",
   "execution_count": 16,
   "id": "4865660a-11c6-4737-b812-6c398b0cddce",
   "metadata": {},
   "outputs": [],
   "source": [
    "def avg(a, b):\n",
    "    return (a+b)/2"
   ]
  },
  {
   "cell_type": "code",
   "execution_count": 17,
   "id": "aeeb3abd-8959-4c57-8542-4518de3e9332",
   "metadata": {},
   "outputs": [
    {
     "data": {
      "text/plain": [
       "5.0"
      ]
     },
     "execution_count": 17,
     "metadata": {},
     "output_type": "execute_result"
    }
   ],
   "source": [
    "avg(4,6)"
   ]
  },
  {
   "cell_type": "code",
   "execution_count": 20,
   "id": "8f1eee34-1e2b-4919-9b0a-4e5ca1f0550e",
   "metadata": {},
   "outputs": [],
   "source": [
    "def avg1(a, b=10): # here b is default argument\n",
    "    return (a+b)/2"
   ]
  },
  {
   "cell_type": "code",
   "execution_count": 19,
   "id": "d0bb3627-abba-4a1e-b6c0-f33c696525e0",
   "metadata": {},
   "outputs": [
    {
     "data": {
      "text/plain": [
       "7.0"
      ]
     },
     "execution_count": 19,
     "metadata": {},
     "output_type": "execute_result"
    }
   ],
   "source": [
    "avg1(4)"
   ]
  },
  {
   "cell_type": "code",
   "execution_count": 21,
   "id": "d93d4271-34fd-4146-994c-9410ef58adc6",
   "metadata": {},
   "outputs": [],
   "source": [
    "def greet():\n",
    "    return('Hello, Good Morning!')"
   ]
  },
  {
   "cell_type": "code",
   "execution_count": 22,
   "id": "60f59a73-ceab-4688-9635-ca8a9d2e75e9",
   "metadata": {},
   "outputs": [
    {
     "data": {
      "text/plain": [
       "'Hello, Good Morning!'"
      ]
     },
     "execution_count": 22,
     "metadata": {},
     "output_type": "execute_result"
    }
   ],
   "source": [
    "greet()"
   ]
  },
  {
   "cell_type": "code",
   "execution_count": null,
   "id": "4ce00e18-206a-4354-ae57-df23dd257cdb",
   "metadata": {},
   "outputs": [],
   "source": []
  }
 ],
 "metadata": {
  "kernelspec": {
   "display_name": "Python [conda env:base] *",
   "language": "python",
   "name": "conda-base-py"
  },
  "language_info": {
   "codemirror_mode": {
    "name": "ipython",
    "version": 3
   },
   "file_extension": ".py",
   "mimetype": "text/x-python",
   "name": "python",
   "nbconvert_exporter": "python",
   "pygments_lexer": "ipython3",
   "version": "3.13.5"
  }
 },
 "nbformat": 4,
 "nbformat_minor": 5
}
