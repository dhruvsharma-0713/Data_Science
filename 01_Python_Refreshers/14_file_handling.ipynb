{
 "cells": [
  {
   "cell_type": "code",
   "execution_count": 1,
   "id": "2f9d26e3-deb7-4170-b4db-9352c764e74c",
   "metadata": {},
   "outputs": [],
   "source": [
    "f = open('dhruv.txt', 'r')"
   ]
  },
  {
   "cell_type": "code",
   "execution_count": 2,
   "id": "eab63808-7774-474c-a3b0-7dd08f45b267",
   "metadata": {},
   "outputs": [
    {
     "data": {
      "text/plain": [
       "'Dhruv is a graduate\\nfrom \\ngalgotias university\\nat\\ngreater noida'"
      ]
     },
     "execution_count": 2,
     "metadata": {},
     "output_type": "execute_result"
    }
   ],
   "source": [
    "f.read()"
   ]
  },
  {
   "cell_type": "code",
   "execution_count": 3,
   "id": "347e89f2-a197-487e-bb68-4d3e8912d2bc",
   "metadata": {},
   "outputs": [],
   "source": [
    "s = 'this is a nice way to learn data science'"
   ]
  },
  {
   "cell_type": "code",
   "execution_count": 4,
   "id": "190feae1-9786-4fa8-92a7-94565a453cc5",
   "metadata": {},
   "outputs": [],
   "source": [
    "f.close()"
   ]
  },
  {
   "cell_type": "code",
   "execution_count": 9,
   "id": "11905266-e874-443a-929c-82dbf1594eed",
   "metadata": {},
   "outputs": [],
   "source": [
    "f = open('text.txt', 'w')"
   ]
  },
  {
   "cell_type": "code",
   "execution_count": 10,
   "id": "ec263aa0-fab1-45f5-9df4-1fb9f134aa90",
   "metadata": {},
   "outputs": [
    {
     "data": {
      "text/plain": [
       "40"
      ]
     },
     "execution_count": 10,
     "metadata": {},
     "output_type": "execute_result"
    }
   ],
   "source": [
    "f.write(s)"
   ]
  },
  {
   "cell_type": "code",
   "execution_count": 11,
   "id": "997e460a-030d-4774-8717-615552d40d9f",
   "metadata": {},
   "outputs": [],
   "source": [
    "f.close()"
   ]
  },
  {
   "cell_type": "code",
   "execution_count": null,
   "id": "1b5bc288-d044-4143-a939-3f9edad8cd99",
   "metadata": {},
   "outputs": [],
   "source": []
  }
 ],
 "metadata": {
  "kernelspec": {
   "display_name": "Python [conda env:base] *",
   "language": "python",
   "name": "conda-base-py"
  },
  "language_info": {
   "codemirror_mode": {
    "name": "ipython",
    "version": 3
   },
   "file_extension": ".py",
   "mimetype": "text/x-python",
   "name": "python",
   "nbconvert_exporter": "python",
   "pygments_lexer": "ipython3",
   "version": "3.13.5"
  }
 },
 "nbformat": 4,
 "nbformat_minor": 5
}
