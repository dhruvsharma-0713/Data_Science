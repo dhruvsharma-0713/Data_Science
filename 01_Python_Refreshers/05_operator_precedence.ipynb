{
 "cells": [
  {
   "cell_type": "code",
   "execution_count": 1,
   "id": "c4ecd87f-3e77-454a-a28e-f2fe1d2b51e4",
   "metadata": {},
   "outputs": [],
   "source": [
    "result = 10 + 2 * 3"
   ]
  },
  {
   "cell_type": "code",
   "execution_count": 2,
   "id": "7ec5d090-1308-48c9-8cdd-a1634aeafa05",
   "metadata": {},
   "outputs": [
    {
     "data": {
      "text/plain": [
       "16"
      ]
     },
     "execution_count": 2,
     "metadata": {},
     "output_type": "execute_result"
    }
   ],
   "source": [
    "result"
   ]
  },
  {
   "cell_type": "code",
   "execution_count": 3,
   "id": "01414525-0794-4839-a03a-a0634faf47e2",
   "metadata": {},
   "outputs": [
    {
     "data": {
      "text/plain": [
       "-20.956521739130434"
      ]
     },
     "execution_count": 3,
     "metadata": {},
     "output_type": "execute_result"
    }
   ],
   "source": [
    "54*3/23+4-2**5"
   ]
  },
  {
   "cell_type": "code",
   "execution_count": 4,
   "id": "5b2dcf84-5c88-4b4c-83a9-a7d9f97a01dc",
   "metadata": {},
   "outputs": [
    {
     "data": {
      "text/plain": [
       "-20.956521739130434"
      ]
     },
     "execution_count": 4,
     "metadata": {},
     "output_type": "execute_result"
    }
   ],
   "source": [
    "54*3/23+4-32"
   ]
  },
  {
   "cell_type": "code",
   "execution_count": 5,
   "id": "8e24f16a-d6c6-4322-ac4a-d7bb9db02751",
   "metadata": {},
   "outputs": [
    {
     "data": {
      "text/plain": [
       "-20.956521739130434"
      ]
     },
     "execution_count": 5,
     "metadata": {},
     "output_type": "execute_result"
    }
   ],
   "source": [
    "162/23+4-32"
   ]
  },
  {
   "cell_type": "code",
   "execution_count": 6,
   "id": "ec668407-0201-4fa3-9730-65865a5d83f2",
   "metadata": {},
   "outputs": [
    {
     "data": {
      "text/plain": [
       "-20.98"
      ]
     },
     "execution_count": 6,
     "metadata": {},
     "output_type": "execute_result"
    }
   ],
   "source": [
    "7.02+4-32"
   ]
  },
  {
   "cell_type": "code",
   "execution_count": null,
   "id": "5ded457a-18be-4a16-992c-523c7f7ae09a",
   "metadata": {},
   "outputs": [],
   "source": []
  }
 ],
 "metadata": {
  "kernelspec": {
   "display_name": "Python [conda env:base] *",
   "language": "python",
   "name": "conda-base-py"
  },
  "language_info": {
   "codemirror_mode": {
    "name": "ipython",
    "version": 3
   },
   "file_extension": ".py",
   "mimetype": "text/x-python",
   "name": "python",
   "nbconvert_exporter": "python",
   "pygments_lexer": "ipython3",
   "version": "3.13.5"
  }
 },
 "nbformat": 4,
 "nbformat_minor": 5
}
