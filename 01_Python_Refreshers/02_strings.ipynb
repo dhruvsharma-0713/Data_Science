{
 "cells": [
  {
   "cell_type": "code",
   "execution_count": 1,
   "id": "00c6b887-89e5-4eaa-b45c-0fa0fe125034",
   "metadata": {},
   "outputs": [],
   "source": [
    "name = 'Dhruv'"
   ]
  },
  {
   "cell_type": "code",
   "execution_count": 2,
   "id": "379366b1-f372-4ba5-90ff-3bc81e3a8552",
   "metadata": {},
   "outputs": [
    {
     "data": {
      "text/plain": [
       "'Dhruv'"
      ]
     },
     "execution_count": 2,
     "metadata": {},
     "output_type": "execute_result"
    }
   ],
   "source": [
    "name"
   ]
  },
  {
   "cell_type": "code",
   "execution_count": 3,
   "id": "81e0d5f2-1a6e-4b1d-bdaf-afd2fc4a2749",
   "metadata": {},
   "outputs": [
    {
     "data": {
      "text/plain": [
       "'DHRUV'"
      ]
     },
     "execution_count": 3,
     "metadata": {},
     "output_type": "execute_result"
    }
   ],
   "source": [
    "name.upper()"
   ]
  },
  {
   "cell_type": "code",
   "execution_count": 4,
   "id": "d7a54638-47ad-4c12-bc74-1a7b30c0cb78",
   "metadata": {},
   "outputs": [
    {
     "data": {
      "text/plain": [
       "True"
      ]
     },
     "execution_count": 4,
     "metadata": {},
     "output_type": "execute_result"
    }
   ],
   "source": [
    "name.endswith(\"uv\")"
   ]
  },
  {
   "cell_type": "code",
   "execution_count": 5,
   "id": "2021b41f-29e2-4e8f-8bd9-d4edfd870262",
   "metadata": {},
   "outputs": [
    {
     "data": {
      "text/plain": [
       "False"
      ]
     },
     "execution_count": 5,
     "metadata": {},
     "output_type": "execute_result"
    }
   ],
   "source": [
    "name.endswith(\"st\")"
   ]
  },
  {
   "cell_type": "code",
   "execution_count": 6,
   "id": "22888cd4-d1f7-4125-a242-d73ed2e38248",
   "metadata": {},
   "outputs": [
    {
     "data": {
      "text/plain": [
       "'dhruv'"
      ]
     },
     "execution_count": 6,
     "metadata": {},
     "output_type": "execute_result"
    }
   ],
   "source": [
    "name.lower()"
   ]
  },
  {
   "cell_type": "code",
   "execution_count": 8,
   "id": "f4db5ac4-cc25-433e-9da1-051ca91493fb",
   "metadata": {},
   "outputs": [
    {
     "data": {
      "text/plain": [
       "1"
      ]
     },
     "execution_count": 8,
     "metadata": {},
     "output_type": "execute_result"
    }
   ],
   "source": [
    "name.count('u')"
   ]
  },
  {
   "cell_type": "code",
   "execution_count": 9,
   "id": "e018a8d3-8f85-4824-a48f-ae9acaf9b11a",
   "metadata": {},
   "outputs": [
    {
     "name": "stdout",
     "output_type": "stream",
     "text": [
      "Let us join these words\n"
     ]
    }
   ],
   "source": [
    "words_list = ['Let', 'us', 'join', 'these', 'words']\n",
    "sentence = ' '.join(words_list)\n",
    "print(sentence)"
   ]
  },
  {
   "cell_type": "code",
   "execution_count": 10,
   "id": "5b784efa-0a24-463e-bacd-cfc741f94ae7",
   "metadata": {},
   "outputs": [
    {
     "name": "stdout",
     "output_type": "stream",
     "text": [
      "Hello World\n"
     ]
    }
   ],
   "source": [
    "greeting = \"Hello Planet\"\n",
    "new_greeting = greeting.replace(\"Planet\", \"World\")\n",
    "print(new_greeting)"
   ]
  },
  {
   "cell_type": "code",
   "execution_count": 14,
   "id": "7953bab8-0c49-4edf-95db-c3fcd81bcf33",
   "metadata": {},
   "outputs": [
    {
     "name": "stdout",
     "output_type": "stream",
     "text": [
      "7\n",
      "-1\n"
     ]
    }
   ],
   "source": [
    "s = \"I love Python programming\"\n",
    "print(s.find(\"Python\"))\n",
    "# Output: 7\n",
    "\n",
    "print(s.find(\"Java\"))\n",
    "# Output: -1"
   ]
  },
  {
   "cell_type": "code",
   "execution_count": 15,
   "id": "218be9d5-041e-4edd-8f30-3ee2be2ede2e",
   "metadata": {},
   "outputs": [
    {
     "name": "stdout",
     "output_type": "stream",
     "text": [
      "True\n",
      "False\n"
     ]
    }
   ],
   "source": [
    "filename = \"document.pdf\"\n",
    "print(filename.startswith(\"doc\"))\n",
    "# Output: True\n",
    "\n",
    "print(filename.endswith(\".txt\"))\n",
    "# Output: False"
   ]
  },
  {
   "cell_type": "code",
   "execution_count": 16,
   "id": "799b398d-08c7-4798-93a1-5eab4b9cf868",
   "metadata": {},
   "outputs": [
    {
     "data": {
      "text/plain": [
       "' love Python programmin'"
      ]
     },
     "execution_count": 16,
     "metadata": {},
     "output_type": "execute_result"
    }
   ],
   "source": [
    "s[1:-1]"
   ]
  },
  {
   "cell_type": "code",
   "execution_count": null,
   "id": "4755d948-b96e-4d1a-9f5b-b02496ce1781",
   "metadata": {},
   "outputs": [],
   "source": []
  }
 ],
 "metadata": {
  "kernelspec": {
   "display_name": "Python [conda env:base] *",
   "language": "python",
   "name": "conda-base-py"
  },
  "language_info": {
   "codemirror_mode": {
    "name": "ipython",
    "version": 3
   },
   "file_extension": ".py",
   "mimetype": "text/x-python",
   "name": "python",
   "nbconvert_exporter": "python",
   "pygments_lexer": "ipython3",
   "version": "3.13.5"
  }
 },
 "nbformat": 4,
 "nbformat_minor": 5
}
