{
 "cells": [
  {
   "cell_type": "code",
   "execution_count": 1,
   "id": "35e00fe0-53db-4b0c-acc8-59261d143f2f",
   "metadata": {},
   "outputs": [],
   "source": [
    "d = {}"
   ]
  },
  {
   "cell_type": "code",
   "execution_count": 2,
   "id": "ff104eb1-f470-4689-8ce8-d722ed515668",
   "metadata": {},
   "outputs": [
    {
     "data": {
      "text/plain": [
       "dict"
      ]
     },
     "execution_count": 2,
     "metadata": {},
     "output_type": "execute_result"
    }
   ],
   "source": [
    "type(d)"
   ]
  },
  {
   "cell_type": "code",
   "execution_count": 3,
   "id": "e15e7f85-8baf-4319-a137-58e55cbf0326",
   "metadata": {},
   "outputs": [],
   "source": [
    "student = {\n",
    "    'name': 'alice',\n",
    "    'age': 25,\n",
    "    'grade': 'a'\n",
    "}"
   ]
  },
  {
   "cell_type": "code",
   "execution_count": 4,
   "id": "86368f18-59cc-4734-8aea-987dbcaed8b6",
   "metadata": {},
   "outputs": [
    {
     "data": {
      "text/plain": [
       "25"
      ]
     },
     "execution_count": 4,
     "metadata": {},
     "output_type": "execute_result"
    }
   ],
   "source": [
    "student['age']"
   ]
  },
  {
   "cell_type": "code",
   "execution_count": 7,
   "id": "55fcf751-36bb-42e2-b24b-17b0321ec129",
   "metadata": {},
   "outputs": [],
   "source": [
    "r = student.get('name')"
   ]
  },
  {
   "cell_type": "code",
   "execution_count": 8,
   "id": "d7cf9d22-e0fe-412f-ba8b-5ee41bdac01f",
   "metadata": {},
   "outputs": [
    {
     "data": {
      "text/plain": [
       "'alice'"
      ]
     },
     "execution_count": 8,
     "metadata": {},
     "output_type": "execute_result"
    }
   ],
   "source": [
    "r"
   ]
  },
  {
   "cell_type": "code",
   "execution_count": 9,
   "id": "13dfda4d-50a6-4c92-9988-5df728def120",
   "metadata": {},
   "outputs": [
    {
     "data": {
      "text/plain": [
       "{'name': 'alice', 'age': 25, 'grade': 'a'}"
      ]
     },
     "execution_count": 9,
     "metadata": {},
     "output_type": "execute_result"
    }
   ],
   "source": [
    "student"
   ]
  },
  {
   "cell_type": "code",
   "execution_count": 10,
   "id": "b23dd93e-fd67-4965-b5bd-a438938661ec",
   "metadata": {},
   "outputs": [
    {
     "name": "stdout",
     "output_type": "stream",
     "text": [
      "25\n"
     ]
    }
   ],
   "source": [
    "print(student['age'])"
   ]
  },
  {
   "cell_type": "code",
   "execution_count": 12,
   "id": "f0ace2b9-4adc-486b-a21c-3075c3657bdf",
   "metadata": {},
   "outputs": [],
   "source": [
    "student['age'] = 67"
   ]
  },
  {
   "cell_type": "code",
   "execution_count": 14,
   "id": "e639e145-9889-4c1d-b103-652bb9985ae7",
   "metadata": {},
   "outputs": [
    {
     "data": {
      "text/plain": [
       "{'name': 'alice', 'age': 67, 'grade': 'a'}"
      ]
     },
     "execution_count": 14,
     "metadata": {},
     "output_type": "execute_result"
    }
   ],
   "source": [
    "student"
   ]
  },
  {
   "cell_type": "code",
   "execution_count": 15,
   "id": "d10ece6c-8330-4dda-9e78-b1117716d4b3",
   "metadata": {},
   "outputs": [
    {
     "data": {
      "text/plain": [
       "dict_keys(['name', 'age', 'grade'])"
      ]
     },
     "execution_count": 15,
     "metadata": {},
     "output_type": "execute_result"
    }
   ],
   "source": [
    "student.keys()"
   ]
  },
  {
   "cell_type": "code",
   "execution_count": 16,
   "id": "419718bc-217e-423d-9e06-053d4f134941",
   "metadata": {},
   "outputs": [
    {
     "data": {
      "text/plain": [
       "dict_values(['alice', 67, 'a'])"
      ]
     },
     "execution_count": 16,
     "metadata": {},
     "output_type": "execute_result"
    }
   ],
   "source": [
    "student.values()"
   ]
  },
  {
   "cell_type": "code",
   "execution_count": 17,
   "id": "346087cc-d3a6-435a-972b-9446a9e7dfef",
   "metadata": {},
   "outputs": [
    {
     "data": {
      "text/plain": [
       "dict_items([('name', 'alice'), ('age', 67), ('grade', 'a')])"
      ]
     },
     "execution_count": 17,
     "metadata": {},
     "output_type": "execute_result"
    }
   ],
   "source": [
    "student.items()"
   ]
  },
  {
   "cell_type": "code",
   "execution_count": 19,
   "id": "ab5f7ef3-9a8c-49b1-9396-48ea75491d0c",
   "metadata": {},
   "outputs": [],
   "source": [
    "student.update({'name': 'Dhruv'})"
   ]
  },
  {
   "cell_type": "code",
   "execution_count": 20,
   "id": "0fc9ac7f-b253-42e2-8207-c0458bd90d9d",
   "metadata": {},
   "outputs": [
    {
     "data": {
      "text/plain": [
       "{'name': 'Dhruv', 'age': 67, 'grade': 'a'}"
      ]
     },
     "execution_count": 20,
     "metadata": {},
     "output_type": "execute_result"
    }
   ],
   "source": [
    "student"
   ]
  },
  {
   "cell_type": "code",
   "execution_count": 23,
   "id": "50b45c09-8d4c-4224-9b2c-94f67d7d3b3b",
   "metadata": {},
   "outputs": [],
   "source": [
    "student.update({'name': 'Dhruv', 'language': 'Python', 'age': 25})"
   ]
  },
  {
   "cell_type": "code",
   "execution_count": 24,
   "id": "bcde69cd-c14b-4614-8d57-ac5eab91b8d1",
   "metadata": {},
   "outputs": [
    {
     "data": {
      "text/plain": [
       "{'name': 'Dhruv', 'age': 25, 'grade': 'a', 'language': 'Python'}"
      ]
     },
     "execution_count": 24,
     "metadata": {},
     "output_type": "execute_result"
    }
   ],
   "source": [
    "student"
   ]
  },
  {
   "cell_type": "code",
   "execution_count": null,
   "id": "a07f1481-42c4-4337-8409-dcc4f396d619",
   "metadata": {},
   "outputs": [],
   "source": []
  }
 ],
 "metadata": {
  "kernelspec": {
   "display_name": "Python [conda env:base] *",
   "language": "python",
   "name": "conda-base-py"
  },
  "language_info": {
   "codemirror_mode": {
    "name": "ipython",
    "version": 3
   },
   "file_extension": ".py",
   "mimetype": "text/x-python",
   "name": "python",
   "nbconvert_exporter": "python",
   "pygments_lexer": "ipython3",
   "version": "3.13.5"
  }
 },
 "nbformat": 4,
 "nbformat_minor": 5
}
