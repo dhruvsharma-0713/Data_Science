{
 "cells": [
  {
   "cell_type": "code",
   "execution_count": 1,
   "id": "b2dc1458-9fae-4552-b141-09a76b1e2553",
   "metadata": {},
   "outputs": [],
   "source": [
    "import json"
   ]
  },
  {
   "cell_type": "code",
   "execution_count": 5,
   "id": "d5edef4d-c8d9-452a-a8fd-b3d1fed142ea",
   "metadata": {},
   "outputs": [
    {
     "data": {
      "text/plain": [
       "'{\"name\": \"alice\", \"company\": \"IBM\", \"salary\": 45000}'"
      ]
     },
     "execution_count": 5,
     "metadata": {},
     "output_type": "execute_result"
    }
   ],
   "source": [
    "obj = {'name': 'alice', 'company': 'IBM', 'salary': 45000}\n",
    "json.dumps(obj)"
   ]
  },
  {
   "cell_type": "code",
   "execution_count": 7,
   "id": "ef1a70ab-087b-4e72-affb-fce6f2123116",
   "metadata": {},
   "outputs": [],
   "source": [
    "d = json.loads('{\"name\": \"alice\", \"company\": \"IBM\", \"salary\": 45000}')"
   ]
  },
  {
   "cell_type": "code",
   "execution_count": 8,
   "id": "f472c3aa-c3c7-4152-8d3b-ab356082995a",
   "metadata": {},
   "outputs": [
    {
     "data": {
      "text/plain": [
       "dict"
      ]
     },
     "execution_count": 8,
     "metadata": {},
     "output_type": "execute_result"
    }
   ],
   "source": [
    "type(d)"
   ]
  },
  {
   "cell_type": "code",
   "execution_count": 9,
   "id": "49f2a97c-584b-4c11-b505-93b1427ce08b",
   "metadata": {},
   "outputs": [],
   "source": [
    "file = open('data.json', 'w')"
   ]
  },
  {
   "cell_type": "code",
   "execution_count": 10,
   "id": "0bb9efdd-53aa-478d-a7a0-52aa2d9fd6e0",
   "metadata": {},
   "outputs": [],
   "source": [
    "json.dump(obj, file)"
   ]
  },
  {
   "cell_type": "code",
   "execution_count": 12,
   "id": "68f06ad7-cf13-47fc-8a6e-a715e69abc0a",
   "metadata": {},
   "outputs": [],
   "source": [
    "file.close()"
   ]
  },
  {
   "cell_type": "code",
   "execution_count": null,
   "id": "b8c3bf03-1baa-48d1-9646-afdf00e81c01",
   "metadata": {},
   "outputs": [],
   "source": []
  }
 ],
 "metadata": {
  "kernelspec": {
   "display_name": "Python [conda env:base] *",
   "language": "python",
   "name": "conda-base-py"
  },
  "language_info": {
   "codemirror_mode": {
    "name": "ipython",
    "version": 3
   },
   "file_extension": ".py",
   "mimetype": "text/x-python",
   "name": "python",
   "nbconvert_exporter": "python",
   "pygments_lexer": "ipython3",
   "version": "3.13.5"
  }
 },
 "nbformat": 4,
 "nbformat_minor": 5
}
