{
 "cells": [
  {
   "cell_type": "code",
   "execution_count": 29,
   "id": "f82f3728-87f1-4267-8ed2-c698f766abaf",
   "metadata": {},
   "outputs": [],
   "source": [
    "l = [3, 5, 23, 34, 9]"
   ]
  },
  {
   "cell_type": "code",
   "execution_count": 30,
   "id": "be8aab74-a29b-4177-ba21-444e46e0e8b6",
   "metadata": {},
   "outputs": [],
   "source": [
    "l[0] = 4"
   ]
  },
  {
   "cell_type": "code",
   "execution_count": 31,
   "id": "438823fa-f0cb-40fa-9b58-b122a43b086b",
   "metadata": {},
   "outputs": [
    {
     "data": {
      "text/plain": [
       "[4, 5, 23, 34, 9]"
      ]
     },
     "execution_count": 31,
     "metadata": {},
     "output_type": "execute_result"
    }
   ],
   "source": [
    "l"
   ]
  },
  {
   "cell_type": "code",
   "execution_count": 32,
   "id": "b126e3d2-0aff-4574-9adc-7924bd1b9091",
   "metadata": {},
   "outputs": [],
   "source": [
    "l.append(3)"
   ]
  },
  {
   "cell_type": "code",
   "execution_count": 33,
   "id": "3b456789-acf0-46d4-acd8-ef50cdc129d0",
   "metadata": {},
   "outputs": [
    {
     "data": {
      "text/plain": [
       "[4, 5, 23, 34, 9, 3]"
      ]
     },
     "execution_count": 33,
     "metadata": {},
     "output_type": "execute_result"
    }
   ],
   "source": [
    "l"
   ]
  },
  {
   "cell_type": "code",
   "execution_count": 34,
   "id": "32346476-6874-471e-a6b7-af01a6981b82",
   "metadata": {},
   "outputs": [],
   "source": [
    "l2 = [17, 11,55]"
   ]
  },
  {
   "cell_type": "code",
   "execution_count": 35,
   "id": "7a9136da-926a-415b-b9e5-90faa0243f52",
   "metadata": {},
   "outputs": [],
   "source": [
    "l.extend(l2)"
   ]
  },
  {
   "cell_type": "code",
   "execution_count": 36,
   "id": "290cb999-164f-4d61-ab0d-81caa9c122ec",
   "metadata": {},
   "outputs": [
    {
     "data": {
      "text/plain": [
       "[4, 5, 23, 34, 9, 3, 17, 11, 55]"
      ]
     },
     "execution_count": 36,
     "metadata": {},
     "output_type": "execute_result"
    }
   ],
   "source": [
    "l"
   ]
  },
  {
   "cell_type": "code",
   "execution_count": 37,
   "id": "81c534ad-2051-4231-a606-d6a2ddabace1",
   "metadata": {},
   "outputs": [],
   "source": [
    "l.insert(1,200) #insert 200 at indesx 1"
   ]
  },
  {
   "cell_type": "code",
   "execution_count": 38,
   "id": "72279918-227a-4f3a-b58d-b5f595c96813",
   "metadata": {},
   "outputs": [
    {
     "data": {
      "text/plain": [
       "[4, 200, 5, 23, 34, 9, 3, 17, 11, 55]"
      ]
     },
     "execution_count": 38,
     "metadata": {},
     "output_type": "execute_result"
    }
   ],
   "source": [
    "l"
   ]
  },
  {
   "cell_type": "code",
   "execution_count": 39,
   "id": "9f6baadb-698d-4fcf-a9c3-6c1184a5700a",
   "metadata": {},
   "outputs": [],
   "source": [
    "number = l.pop(4)"
   ]
  },
  {
   "cell_type": "code",
   "execution_count": 40,
   "id": "059ad9cd-9cb3-42b0-a6b5-19e81db8681f",
   "metadata": {},
   "outputs": [
    {
     "data": {
      "text/plain": [
       "34"
      ]
     },
     "execution_count": 40,
     "metadata": {},
     "output_type": "execute_result"
    }
   ],
   "source": [
    "number"
   ]
  },
  {
   "cell_type": "code",
   "execution_count": 41,
   "id": "a186e5b4-ff6c-4eab-a3a8-0167bc31f866",
   "metadata": {},
   "outputs": [
    {
     "data": {
      "text/plain": [
       "[4, 200, 5, 23, 9, 3, 17, 11, 55]"
      ]
     },
     "execution_count": 41,
     "metadata": {},
     "output_type": "execute_result"
    }
   ],
   "source": [
    "l"
   ]
  },
  {
   "cell_type": "code",
   "execution_count": 42,
   "id": "a04d543e-b6f7-41ca-be7f-dcdfb2b3ace3",
   "metadata": {},
   "outputs": [
    {
     "data": {
      "text/plain": [
       "0"
      ]
     },
     "execution_count": 42,
     "metadata": {},
     "output_type": "execute_result"
    }
   ],
   "source": [
    "l.index(4)"
   ]
  },
  {
   "cell_type": "code",
   "execution_count": 43,
   "id": "32fe0007-85f8-494a-9e87-3ed4d7ec6974",
   "metadata": {},
   "outputs": [
    {
     "data": {
      "text/plain": [
       "5"
      ]
     },
     "execution_count": 43,
     "metadata": {},
     "output_type": "execute_result"
    }
   ],
   "source": [
    "l.index(3)"
   ]
  },
  {
   "cell_type": "code",
   "execution_count": 44,
   "id": "adaac321-5488-4e29-848f-1ce37831915e",
   "metadata": {},
   "outputs": [],
   "source": [
    "l.append(4)"
   ]
  },
  {
   "cell_type": "code",
   "execution_count": 45,
   "id": "bc403567-337f-4573-8fb0-831196edad20",
   "metadata": {},
   "outputs": [
    {
     "data": {
      "text/plain": [
       "[4, 200, 5, 23, 9, 3, 17, 11, 55, 4]"
      ]
     },
     "execution_count": 45,
     "metadata": {},
     "output_type": "execute_result"
    }
   ],
   "source": [
    "l"
   ]
  },
  {
   "cell_type": "code",
   "execution_count": 46,
   "id": "48ee1ed5-446d-4fb6-81a9-6c31de85c22d",
   "metadata": {},
   "outputs": [
    {
     "data": {
      "text/plain": [
       "2"
      ]
     },
     "execution_count": 46,
     "metadata": {},
     "output_type": "execute_result"
    }
   ],
   "source": [
    "l.count(4)"
   ]
  },
  {
   "cell_type": "code",
   "execution_count": 47,
   "id": "a9f4e7bc-f22d-4b4a-87fd-17a54704f92b",
   "metadata": {},
   "outputs": [
    {
     "data": {
      "text/plain": [
       "[3, 4, 4, 5, 9, 11, 17, 23, 55, 200]"
      ]
     },
     "execution_count": 47,
     "metadata": {},
     "output_type": "execute_result"
    }
   ],
   "source": [
    "sorted(l)"
   ]
  },
  {
   "cell_type": "code",
   "execution_count": 48,
   "id": "262dd93d-e0bc-4363-9c63-3ac9c342f22d",
   "metadata": {},
   "outputs": [
    {
     "data": {
      "text/plain": [
       "[4, 200, 5, 23, 9, 3, 17, 11, 55, 4]"
      ]
     },
     "execution_count": 48,
     "metadata": {},
     "output_type": "execute_result"
    }
   ],
   "source": [
    "l"
   ]
  },
  {
   "cell_type": "code",
   "execution_count": 50,
   "id": "44d0d474-fbb8-4426-9744-241946d2a7d1",
   "metadata": {},
   "outputs": [],
   "source": [
    "y = [1, 2, True, False, [4, 7], 28]"
   ]
  },
  {
   "cell_type": "code",
   "execution_count": 51,
   "id": "a7d62b78-b565-4910-a6fd-81505c4812f4",
   "metadata": {},
   "outputs": [
    {
     "data": {
      "text/plain": [
       "[1, 2, True, False, [4, 7], 28]"
      ]
     },
     "execution_count": 51,
     "metadata": {},
     "output_type": "execute_result"
    }
   ],
   "source": [
    "y"
   ]
  },
  {
   "cell_type": "code",
   "execution_count": 52,
   "id": "24e14f10-b43a-433a-b02a-202748608959",
   "metadata": {},
   "outputs": [
    {
     "data": {
      "text/plain": [
       "[4, 7]"
      ]
     },
     "execution_count": 52,
     "metadata": {},
     "output_type": "execute_result"
    }
   ],
   "source": [
    "y[4]"
   ]
  },
  {
   "cell_type": "code",
   "execution_count": 53,
   "id": "3755f4f6-1918-4023-a521-c6823ba135c1",
   "metadata": {},
   "outputs": [
    {
     "data": {
      "text/plain": [
       "7"
      ]
     },
     "execution_count": 53,
     "metadata": {},
     "output_type": "execute_result"
    }
   ],
   "source": [
    "y[4][1]"
   ]
  },
  {
   "cell_type": "code",
   "execution_count": 54,
   "id": "8eae424e-8a2b-443e-951b-6abd73a5c591",
   "metadata": {},
   "outputs": [],
   "source": [
    "list1 = [4, 32, 12]\n",
    "list2 = [3, 1, 8]"
   ]
  },
  {
   "cell_type": "code",
   "execution_count": 55,
   "id": "c49cde80-82be-4f79-8a9d-fed32775ce33",
   "metadata": {},
   "outputs": [
    {
     "data": {
      "text/plain": [
       "[4, 32, 12, 3, 1, 8]"
      ]
     },
     "execution_count": 55,
     "metadata": {},
     "output_type": "execute_result"
    }
   ],
   "source": [
    "list1 + list2"
   ]
  },
  {
   "cell_type": "code",
   "execution_count": 56,
   "id": "b5047165-a99b-492a-8fde-0d9bd9cbf5bc",
   "metadata": {},
   "outputs": [
    {
     "data": {
      "text/plain": [
       "[4, 32, 12]"
      ]
     },
     "execution_count": 56,
     "metadata": {},
     "output_type": "execute_result"
    }
   ],
   "source": [
    "list1"
   ]
  },
  {
   "cell_type": "code",
   "execution_count": 57,
   "id": "571c9335-a5c9-4299-91a3-e4a2d63b8434",
   "metadata": {},
   "outputs": [
    {
     "data": {
      "text/plain": [
       "[3, 1, 8]"
      ]
     },
     "execution_count": 57,
     "metadata": {},
     "output_type": "execute_result"
    }
   ],
   "source": [
    "list2"
   ]
  },
  {
   "cell_type": "code",
   "execution_count": 59,
   "id": "e47dfaa9-1a47-43ad-bad4-c4b543db813e",
   "metadata": {},
   "outputs": [],
   "source": [
    "if 33 in list2:\n",
    "    print('yes')"
   ]
  },
  {
   "cell_type": "code",
   "execution_count": 61,
   "id": "cfae0aff-a657-4d2b-baba-17fc74765207",
   "metadata": {},
   "outputs": [],
   "source": [
    "s = 'jack-jill-shubham-kirti-javed-salman-akshay'"
   ]
  },
  {
   "cell_type": "code",
   "execution_count": 62,
   "id": "65b66266-42e8-4dec-9b5d-088c919b22b2",
   "metadata": {},
   "outputs": [
    {
     "data": {
      "text/plain": [
       "['jack', 'jill', 'shubham', 'kirti', 'javed', 'salman', 'akshay']"
      ]
     },
     "execution_count": 62,
     "metadata": {},
     "output_type": "execute_result"
    }
   ],
   "source": [
    "s.split('-')"
   ]
  },
  {
   "cell_type": "code",
   "execution_count": null,
   "id": "fbdf9b17-2917-475b-a1ae-4bce8f1072e5",
   "metadata": {},
   "outputs": [],
   "source": []
  }
 ],
 "metadata": {
  "kernelspec": {
   "display_name": "Python [conda env:base] *",
   "language": "python",
   "name": "conda-base-py"
  },
  "language_info": {
   "codemirror_mode": {
    "name": "ipython",
    "version": 3
   },
   "file_extension": ".py",
   "mimetype": "text/x-python",
   "name": "python",
   "nbconvert_exporter": "python",
   "pygments_lexer": "ipython3",
   "version": "3.13.5"
  }
 },
 "nbformat": 4,
 "nbformat_minor": 5
}
