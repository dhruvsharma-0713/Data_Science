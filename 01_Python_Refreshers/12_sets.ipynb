{
 "cells": [
  {
   "cell_type": "code",
   "execution_count": 1,
   "id": "42f8fabd-f282-434a-8831-9963f0c17b4a",
   "metadata": {},
   "outputs": [],
   "source": [
    "a = {}"
   ]
  },
  {
   "cell_type": "code",
   "execution_count": 2,
   "id": "fa0646e7-618a-4c35-9238-31739830c1d4",
   "metadata": {},
   "outputs": [
    {
     "data": {
      "text/plain": [
       "dict"
      ]
     },
     "execution_count": 2,
     "metadata": {},
     "output_type": "execute_result"
    }
   ],
   "source": [
    "type(a)"
   ]
  },
  {
   "cell_type": "code",
   "execution_count": 3,
   "id": "fcf37b41-eea2-49c8-8bb3-ae3832cd9f2b",
   "metadata": {},
   "outputs": [],
   "source": [
    "b = set()"
   ]
  },
  {
   "cell_type": "code",
   "execution_count": 4,
   "id": "de1356c8-cef1-4e2b-b38f-473251f6cb37",
   "metadata": {},
   "outputs": [
    {
     "data": {
      "text/plain": [
       "set"
      ]
     },
     "execution_count": 4,
     "metadata": {},
     "output_type": "execute_result"
    }
   ],
   "source": [
    "type(b)"
   ]
  },
  {
   "cell_type": "code",
   "execution_count": 5,
   "id": "ee6660a1-afb6-4f33-b68c-344cee4290d6",
   "metadata": {},
   "outputs": [],
   "source": [
    "s = {4, 3, 6, 2, 21, 4}"
   ]
  },
  {
   "cell_type": "code",
   "execution_count": 6,
   "id": "d4503488-8603-427c-aae8-6e4845e35cf6",
   "metadata": {},
   "outputs": [
    {
     "data": {
      "text/plain": [
       "{2, 3, 4, 6, 21}"
      ]
     },
     "execution_count": 6,
     "metadata": {},
     "output_type": "execute_result"
    }
   ],
   "source": [
    "s"
   ]
  },
  {
   "cell_type": "code",
   "execution_count": 7,
   "id": "b588c981-5bab-4f2f-98aa-a1fddac6041f",
   "metadata": {},
   "outputs": [
    {
     "name": "stdout",
     "output_type": "stream",
     "text": [
      "{1, 2, 3, 4, 5}\n"
     ]
    }
   ],
   "source": [
    "unique_numbers = set([1, 2, 2, 3, 4, 4, 5])\n",
    "print(unique_numbers)"
   ]
  },
  {
   "cell_type": "code",
   "execution_count": 8,
   "id": "dcf372a0-235d-4413-b30e-1cab5a1ead80",
   "metadata": {},
   "outputs": [],
   "source": [
    "s = {4, 3, 6, 2, 66, 4}"
   ]
  },
  {
   "cell_type": "code",
   "execution_count": 9,
   "id": "6ad44e03-fb1a-44a9-89be-eb7efff439e4",
   "metadata": {},
   "outputs": [],
   "source": [
    "s.add(34)"
   ]
  },
  {
   "cell_type": "code",
   "execution_count": 10,
   "id": "41107aff-0833-43e2-99db-650987a84766",
   "metadata": {},
   "outputs": [
    {
     "data": {
      "text/plain": [
       "{2, 3, 4, 6, 34, 66}"
      ]
     },
     "execution_count": 10,
     "metadata": {},
     "output_type": "execute_result"
    }
   ],
   "source": [
    "s"
   ]
  },
  {
   "cell_type": "code",
   "execution_count": 13,
   "id": "789b0467-42b8-4e6d-b8ce-7afea5f1faf2",
   "metadata": {},
   "outputs": [],
   "source": [
    "s.update([4, 64, 233]) # this will update the set but don't add the duplicate entrie"
   ]
  },
  {
   "cell_type": "code",
   "execution_count": 12,
   "id": "495b3cce-7071-4ceb-8b60-4601bef414ec",
   "metadata": {},
   "outputs": [
    {
     "data": {
      "text/plain": [
       "{2, 3, 4, 6, 34, 64, 66, 233}"
      ]
     },
     "execution_count": 12,
     "metadata": {},
     "output_type": "execute_result"
    }
   ],
   "source": [
    "s"
   ]
  },
  {
   "cell_type": "code",
   "execution_count": 14,
   "id": "51d03928-7a71-4c64-8681-d0b1d050040f",
   "metadata": {},
   "outputs": [],
   "source": [
    "s.remove(233)"
   ]
  },
  {
   "cell_type": "code",
   "execution_count": 15,
   "id": "f40ab0df-18f3-4542-9ac9-64f9e6960574",
   "metadata": {},
   "outputs": [
    {
     "data": {
      "text/plain": [
       "{2, 3, 4, 6, 34, 64, 66}"
      ]
     },
     "execution_count": 15,
     "metadata": {},
     "output_type": "execute_result"
    }
   ],
   "source": [
    "s"
   ]
  },
  {
   "cell_type": "code",
   "execution_count": 17,
   "id": "86154939-cebc-40ec-8a03-36aa351634c1",
   "metadata": {},
   "outputs": [],
   "source": [
    "set1 = {1, 2, 3, 4}\n",
    "set2 = {3, 4, 5, 6, 7}"
   ]
  },
  {
   "cell_type": "code",
   "execution_count": 21,
   "id": "a9fa2182-c512-4eaf-9b5d-3f9161873d5e",
   "metadata": {},
   "outputs": [
    {
     "data": {
      "text/plain": [
       "{1, 2, 3, 4, 5, 6, 7}"
      ]
     },
     "execution_count": 21,
     "metadata": {},
     "output_type": "execute_result"
    }
   ],
   "source": [
    "set1.union(set2) #it returns a new set"
   ]
  },
  {
   "cell_type": "code",
   "execution_count": 19,
   "id": "ddaa7dc6-63cd-4007-ab50-02d1cf927d1c",
   "metadata": {},
   "outputs": [
    {
     "data": {
      "text/plain": [
       "{1, 2, 3, 4}"
      ]
     },
     "execution_count": 19,
     "metadata": {},
     "output_type": "execute_result"
    }
   ],
   "source": [
    "set1"
   ]
  },
  {
   "cell_type": "code",
   "execution_count": 20,
   "id": "84605643-5e5d-433d-abee-c3cb4eb2c778",
   "metadata": {},
   "outputs": [
    {
     "data": {
      "text/plain": [
       "{3, 4, 5, 6, 7}"
      ]
     },
     "execution_count": 20,
     "metadata": {},
     "output_type": "execute_result"
    }
   ],
   "source": [
    "set2"
   ]
  },
  {
   "cell_type": "code",
   "execution_count": 22,
   "id": "0024b3cd-9178-403e-a783-40018db7b58c",
   "metadata": {},
   "outputs": [
    {
     "data": {
      "text/plain": [
       "{3, 4}"
      ]
     },
     "execution_count": 22,
     "metadata": {},
     "output_type": "execute_result"
    }
   ],
   "source": [
    "set1.intersection(set2)"
   ]
  },
  {
   "cell_type": "code",
   "execution_count": 23,
   "id": "a1e5f52e-11a2-4e26-9126-0ec9b3cdaf28",
   "metadata": {},
   "outputs": [
    {
     "data": {
      "text/plain": [
       "False"
      ]
     },
     "execution_count": 23,
     "metadata": {},
     "output_type": "execute_result"
    }
   ],
   "source": [
    "set1.issubset(set2)"
   ]
  },
  {
   "cell_type": "code",
   "execution_count": 24,
   "id": "cd273d77-a77e-4499-aff6-67c01b1ae424",
   "metadata": {},
   "outputs": [],
   "source": [
    "sub = {1, 3}"
   ]
  },
  {
   "cell_type": "code",
   "execution_count": 25,
   "id": "7ea5d8a1-ef6b-43c0-aea6-1fa9ea28142a",
   "metadata": {},
   "outputs": [
    {
     "data": {
      "text/plain": [
       "True"
      ]
     },
     "execution_count": 25,
     "metadata": {},
     "output_type": "execute_result"
    }
   ],
   "source": [
    "sub.issubset(set1)"
   ]
  },
  {
   "cell_type": "code",
   "execution_count": 26,
   "id": "88ad5a02-cc10-4109-bfef-54c46370b2e7",
   "metadata": {},
   "outputs": [
    {
     "data": {
      "text/plain": [
       "True"
      ]
     },
     "execution_count": 26,
     "metadata": {},
     "output_type": "execute_result"
    }
   ],
   "source": [
    "set1.issuperset(sub)"
   ]
  },
  {
   "cell_type": "code",
   "execution_count": null,
   "id": "f354e1ea-32e6-4f48-8977-f92a2949b1ba",
   "metadata": {},
   "outputs": [],
   "source": []
  }
 ],
 "metadata": {
  "kernelspec": {
   "display_name": "Python [conda env:base] *",
   "language": "python",
   "name": "conda-base-py"
  },
  "language_info": {
   "codemirror_mode": {
    "name": "ipython",
    "version": 3
   },
   "file_extension": ".py",
   "mimetype": "text/x-python",
   "name": "python",
   "nbconvert_exporter": "python",
   "pygments_lexer": "ipython3",
   "version": "3.13.5"
  }
 },
 "nbformat": 4,
 "nbformat_minor": 5
}
