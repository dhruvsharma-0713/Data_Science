{
 "cells": [
  {
   "cell_type": "code",
   "execution_count": 1,
   "id": "eb8c4018-dca3-4d51-ae21-173ace26f66b",
   "metadata": {},
   "outputs": [],
   "source": [
    "a = 5"
   ]
  },
  {
   "cell_type": "code",
   "execution_count": 2,
   "id": "64725a61-f52a-4d18-8db5-3f959fb5d6f4",
   "metadata": {},
   "outputs": [],
   "source": [
    "b = 32"
   ]
  },
  {
   "cell_type": "code",
   "execution_count": 3,
   "id": "6f71a809-7f41-47f0-b107-ed96cf173592",
   "metadata": {},
   "outputs": [
    {
     "data": {
      "text/plain": [
       "37"
      ]
     },
     "execution_count": 3,
     "metadata": {},
     "output_type": "execute_result"
    }
   ],
   "source": [
    "a + b "
   ]
  },
  {
   "cell_type": "code",
   "execution_count": 4,
   "id": "0f7c3fe8-b6bc-4a18-b9ec-ced32562d920",
   "metadata": {},
   "outputs": [],
   "source": [
    "name = 'Dhruv'"
   ]
  },
  {
   "cell_type": "code",
   "execution_count": 5,
   "id": "ecb54281-3353-40f3-88e4-7eedb9bbe020",
   "metadata": {},
   "outputs": [
    {
     "name": "stdout",
     "output_type": "stream",
     "text": [
      "Hello World\n"
     ]
    }
   ],
   "source": [
    "print(\"Hello World\") # this will print hello world"
   ]
  },
  {
   "cell_type": "code",
   "execution_count": 6,
   "id": "c57fe241-7295-40e6-b29f-6821cc19ce8c",
   "metadata": {},
   "outputs": [],
   "source": [
    "# this is a comment"
   ]
  },
  {
   "cell_type": "code",
   "execution_count": 7,
   "id": "af36e4ab-9dd9-47ca-ab76-ed7dbbc38fcb",
   "metadata": {},
   "outputs": [
    {
     "name": "stdout",
     "output_type": "stream",
     "text": [
      "<class 'int'>\n"
     ]
    }
   ],
   "source": [
    "print(type(a))"
   ]
  },
  {
   "cell_type": "code",
   "execution_count": 8,
   "id": "e5f3a19d-94f2-444d-85da-f72437f3923d",
   "metadata": {},
   "outputs": [
    {
     "name": "stdout",
     "output_type": "stream",
     "text": [
      "<class 'str'>\n"
     ]
    }
   ],
   "source": [
    "print(type(name))"
   ]
  },
  {
   "cell_type": "code",
   "execution_count": 9,
   "id": "f3318086-7bc4-4c9e-b616-dbe4747dcfec",
   "metadata": {},
   "outputs": [],
   "source": [
    "a = '4566'"
   ]
  },
  {
   "cell_type": "code",
   "execution_count": 10,
   "id": "b50f2bdb-623f-43a3-bb48-1408237191f9",
   "metadata": {},
   "outputs": [],
   "source": [
    "b = '5677'"
   ]
  },
  {
   "cell_type": "code",
   "execution_count": 11,
   "id": "587ce881-b47a-4368-94a1-59e587f8d7bd",
   "metadata": {},
   "outputs": [
    {
     "name": "stdout",
     "output_type": "stream",
     "text": [
      "45665677\n"
     ]
    }
   ],
   "source": [
    "print(a+b)"
   ]
  },
  {
   "cell_type": "code",
   "execution_count": 13,
   "id": "ff46ee05-d978-43cb-a893-b4c7039381ba",
   "metadata": {},
   "outputs": [
    {
     "name": "stdout",
     "output_type": "stream",
     "text": [
      "10243\n"
     ]
    }
   ],
   "source": [
    "print(int(a)+int(b)) #typecasting"
   ]
  },
  {
   "cell_type": "code",
   "execution_count": null,
   "id": "3c5efa6e-eab3-4b54-aa20-0a1c87aabb4b",
   "metadata": {},
   "outputs": [],
   "source": []
  }
 ],
 "metadata": {
  "kernelspec": {
   "display_name": "Python [conda env:base] *",
   "language": "python",
   "name": "conda-base-py"
  },
  "language_info": {
   "codemirror_mode": {
    "name": "ipython",
    "version": 3
   },
   "file_extension": ".py",
   "mimetype": "text/x-python",
   "name": "python",
   "nbconvert_exporter": "python",
   "pygments_lexer": "ipython3",
   "version": "3.13.5"
  }
 },
 "nbformat": 4,
 "nbformat_minor": 5
}
