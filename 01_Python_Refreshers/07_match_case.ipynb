{
 "cells": [
  {
   "cell_type": "code",
   "execution_count": 18,
   "id": "c9149ae9-5594-4bd1-b963-59a53da658f5",
   "metadata": {},
   "outputs": [],
   "source": [
    "code = 500"
   ]
  },
  {
   "cell_type": "code",
   "execution_count": 19,
   "id": "87f0dd78-5034-4108-8ea1-2101874961ef",
   "metadata": {},
   "outputs": [
    {
     "name": "stdout",
     "output_type": "stream",
     "text": [
      "Server Error\n",
      "End of program\n"
     ]
    }
   ],
   "source": [
    "match code:\n",
    "    case 200:\n",
    "        print('Response Ok')\n",
    "        print('Good job')\n",
    "    case 400:\n",
    "        print('Bad Response')\n",
    "    case 404:\n",
    "        print('Not found')\n",
    "    case 500:\n",
    "        print('Server Error')\n",
    "    case _:\n",
    "        print('Nothing Matched')\n",
    "print('End of program')"
   ]
  },
  {
   "cell_type": "code",
   "execution_count": 20,
   "id": "81ea6b74-40f6-4752-89f5-183d51bb88b8",
   "metadata": {},
   "outputs": [],
   "source": [
    "code = 1000"
   ]
  },
  {
   "cell_type": "code",
   "execution_count": 21,
   "id": "a0bef535-9317-4d8c-91f3-e8595cfc8642",
   "metadata": {},
   "outputs": [
    {
     "name": "stdout",
     "output_type": "stream",
     "text": [
      "Nothing Matched\n",
      "End of program\n"
     ]
    }
   ],
   "source": [
    "match code:\n",
    "    case 200:\n",
    "        print('Response Ok')\n",
    "        print('Good job')\n",
    "    case 400:\n",
    "        print('Bad Response')\n",
    "    case 404:\n",
    "        print('Not found')\n",
    "    case 500:\n",
    "        print('Server Error')\n",
    "    case _:\n",
    "        print('Nothing Matched')\n",
    "print('End of program')"
   ]
  },
  {
   "cell_type": "code",
   "execution_count": 22,
   "id": "a2dd165d-67b1-4a74-bd0d-9c5ad1585d51",
   "metadata": {},
   "outputs": [],
   "source": [
    "code = 200"
   ]
  },
  {
   "cell_type": "code",
   "execution_count": 23,
   "id": "df8264aa-e216-411c-a984-31599bfc6694",
   "metadata": {},
   "outputs": [
    {
     "name": "stdout",
     "output_type": "stream",
     "text": [
      "Response Ok\n",
      "Good job\n",
      "End of program\n"
     ]
    }
   ],
   "source": [
    "match code:\n",
    "    case 200:\n",
    "        print('Response Ok')\n",
    "        print('Good job')\n",
    "    case 400:\n",
    "        print('Bad Response')\n",
    "    case 404:\n",
    "        print('Not found')\n",
    "    case 500:\n",
    "        print('Server Error')\n",
    "    case _:\n",
    "        print('Nothing Matched')\n",
    "print('End of program')"
   ]
  },
  {
   "cell_type": "code",
   "execution_count": null,
   "id": "4cf214f4-b9ec-473b-be99-5eb5168ad3ea",
   "metadata": {},
   "outputs": [],
   "source": []
  }
 ],
 "metadata": {
  "kernelspec": {
   "display_name": "Python [conda env:base] *",
   "language": "python",
   "name": "conda-base-py"
  },
  "language_info": {
   "codemirror_mode": {
    "name": "ipython",
    "version": 3
   },
   "file_extension": ".py",
   "mimetype": "text/x-python",
   "name": "python",
   "nbconvert_exporter": "python",
   "pygments_lexer": "ipython3",
   "version": "3.13.5"
  }
 },
 "nbformat": 4,
 "nbformat_minor": 5
}
