{
 "cells": [
  {
   "cell_type": "code",
   "execution_count": 1,
   "id": "9babdb11-b5a4-472b-af30-e26b20478355",
   "metadata": {},
   "outputs": [],
   "source": [
    "s = 'Dhruv'"
   ]
  },
  {
   "cell_type": "code",
   "execution_count": 2,
   "id": "1e90c396-6f38-4fd3-b008-ae7355e715e3",
   "metadata": {},
   "outputs": [
    {
     "data": {
      "text/plain": [
       "'DHRUV'"
      ]
     },
     "execution_count": 2,
     "metadata": {},
     "output_type": "execute_result"
    }
   ],
   "source": [
    "s.upper()"
   ]
  },
  {
   "cell_type": "code",
   "execution_count": 3,
   "id": "7eec5975-8ba4-42ee-9f57-05e2ddff8b06",
   "metadata": {},
   "outputs": [
    {
     "name": "stdout",
     "output_type": "stream",
     "text": [
      "My name is john and I am 55 years old.\n"
     ]
    }
   ],
   "source": [
    "name = 'john'\n",
    "age = 55\n",
    "print('My name is {} and I am {} years old.'.format(name, age))"
   ]
  },
  {
   "cell_type": "code",
   "execution_count": 4,
   "id": "66811b1d-66f5-45aa-881b-d11fef18e3af",
   "metadata": {},
   "outputs": [
    {
     "name": "stdout",
     "output_type": "stream",
     "text": [
      "My name is john and I am 55 years old.\n"
     ]
    }
   ],
   "source": [
    "print(f'My name is {name} and I am {age} years old.')"
   ]
  },
  {
   "cell_type": "code",
   "execution_count": 5,
   "id": "c72ab816-78d7-4121-be71-b01b535507c9",
   "metadata": {},
   "outputs": [
    {
     "name": "stdout",
     "output_type": "stream",
     "text": [
      "Python    \n",
      "    Python\n",
      "  Python  \n"
     ]
    }
   ],
   "source": [
    "print(f\"{'Python':<10}\")\n",
    "print(f\"{'Python':>10}\")\n",
    "print(f\"{'Python':^10}\")"
   ]
  },
  {
   "cell_type": "code",
   "execution_count": null,
   "id": "f21af49d-d835-45dd-b11e-0ad2ca3a3e55",
   "metadata": {},
   "outputs": [],
   "source": []
  }
 ],
 "metadata": {
  "kernelspec": {
   "display_name": "Python [conda env:base] *",
   "language": "python",
   "name": "conda-base-py"
  },
  "language_info": {
   "codemirror_mode": {
    "name": "ipython",
    "version": 3
   },
   "file_extension": ".py",
   "mimetype": "text/x-python",
   "name": "python",
   "nbconvert_exporter": "python",
   "pygments_lexer": "ipython3",
   "version": "3.13.5"
  }
 },
 "nbformat": 4,
 "nbformat_minor": 5
}
