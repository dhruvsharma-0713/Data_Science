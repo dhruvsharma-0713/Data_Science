{
 "cells": [
  {
   "cell_type": "code",
   "execution_count": 3,
   "id": "e5a6b70a-062b-4257-818a-5c6310390af8",
   "metadata": {},
   "outputs": [
    {
     "name": "stdin",
     "output_type": "stream",
     "text": [
      "Enter the value of a 4\n"
     ]
    }
   ],
   "source": [
    "a  = input('Enter the value of a')"
   ]
  },
  {
   "cell_type": "code",
   "execution_count": 4,
   "id": "35d6929c-5e74-4af5-b973-0bc707f1a830",
   "metadata": {},
   "outputs": [
    {
     "data": {
      "text/plain": [
       "'4'"
      ]
     },
     "execution_count": 4,
     "metadata": {},
     "output_type": "execute_result"
    }
   ],
   "source": [
    "a"
   ]
  },
  {
   "cell_type": "code",
   "execution_count": 5,
   "id": "7891434e-b264-4ffa-af1a-7f8674859e4b",
   "metadata": {},
   "outputs": [
    {
     "name": "stdin",
     "output_type": "stream",
     "text": [
      "Enter the value of b 45\n"
     ]
    }
   ],
   "source": [
    "b = input('Enter the value of b')"
   ]
  },
  {
   "cell_type": "code",
   "execution_count": 6,
   "id": "8d7c2c59-2fb0-4138-92ff-f4efe2cbe12a",
   "metadata": {},
   "outputs": [
    {
     "data": {
      "text/plain": [
       "'445'"
      ]
     },
     "execution_count": 6,
     "metadata": {},
     "output_type": "execute_result"
    }
   ],
   "source": [
    "a+b"
   ]
  },
  {
   "cell_type": "code",
   "execution_count": 8,
   "id": "61ba148c-775b-450c-b690-5777dc5db708",
   "metadata": {},
   "outputs": [
    {
     "data": {
      "text/plain": [
       "49"
      ]
     },
     "execution_count": 8,
     "metadata": {},
     "output_type": "execute_result"
    }
   ],
   "source": [
    "int(a)+int(b) #by default it takes the input as string"
   ]
  },
  {
   "cell_type": "code",
   "execution_count": 10,
   "id": "adb23fee-cd05-49d0-81ba-0a8fc523300d",
   "metadata": {},
   "outputs": [
    {
     "name": "stdin",
     "output_type": "stream",
     "text": [
      " 55\n"
     ]
    }
   ],
   "source": [
    "c = input()"
   ]
  },
  {
   "cell_type": "code",
   "execution_count": null,
   "id": "a53d26e4-7a4e-46e2-8c06-4ef4ce66d5a2",
   "metadata": {},
   "outputs": [],
   "source": []
  }
 ],
 "metadata": {
  "kernelspec": {
   "display_name": "Python [conda env:base] *",
   "language": "python",
   "name": "conda-base-py"
  },
  "language_info": {
   "codemirror_mode": {
    "name": "ipython",
    "version": 3
   },
   "file_extension": ".py",
   "mimetype": "text/x-python",
   "name": "python",
   "nbconvert_exporter": "python",
   "pygments_lexer": "ipython3",
   "version": "3.13.5"
  }
 },
 "nbformat": 4,
 "nbformat_minor": 5
}
