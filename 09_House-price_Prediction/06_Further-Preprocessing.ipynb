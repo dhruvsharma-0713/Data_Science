{
 "cells": [
  {
   "cell_type": "code",
   "execution_count": 1,
   "id": "2213f628-da35-4adc-8836-23dcf8320cdd",
   "metadata": {},
   "outputs": [],
   "source": [
    "import pandas as pd\n",
    "import numpy as np"
   ]
  },
  {
   "cell_type": "code",
   "execution_count": 2,
   "id": "751a4566-8db8-4772-bbf7-f193f4e2ea61",
   "metadata": {},
   "outputs": [],
   "source": [
    "df = pd.read_csv(\"housing.csv\")"
   ]
  },
  {
   "cell_type": "code",
   "execution_count": 3,
   "id": "08866673-cec8-4729-8e12-fccb5593cf5d",
   "metadata": {},
   "outputs": [],
   "source": [
    "df['income_cat'] = pd.cut(df['median_income'], bins=[0, 1.5, 3.0, 4.5, 6.0, np.inf], labels=[1, 2, 3, 4, 5])"
   ]
  },
  {
   "cell_type": "code",
   "execution_count": 4,
   "id": "cac0ecf5-e9e3-497b-a8a8-03c3cf18a547",
   "metadata": {},
   "outputs": [],
   "source": [
    "from sklearn.model_selection import StratifiedShuffleSplit\n",
    "split = StratifiedShuffleSplit(n_splits=1, test_size=0.2, random_state=42)\n",
    "for train_index, test_index in split.split(df, df['income_cat']):\n",
    "    strat_train_set = df.loc[train_index]\n",
    "    strat_test_set = df.loc[test_index]"
   ]
  },
  {
   "cell_type": "markdown",
   "id": "ca79a40d-e6e6-4727-85df-052c3a1ddc25",
   "metadata": {},
   "source": [
    "#### Lets remove the income_cat column"
   ]
  },
  {
   "cell_type": "code",
   "execution_count": 5,
   "id": "6939e49e-d2a2-4981-8ff9-f5579eda03a8",
   "metadata": {},
   "outputs": [],
   "source": [
    "for sett in (strat_train_set, strat_test_set):\n",
    "    sett.drop(\"income_cat\", axis=1, inplace=True)"
   ]
  },
  {
   "cell_type": "code",
   "execution_count": 6,
   "id": "8d615161-bee1-4eda-951e-81d8242b08ba",
   "metadata": {},
   "outputs": [],
   "source": [
    "df = strat_train_set.copy()"
   ]
  },
  {
   "cell_type": "markdown",
   "id": "43d38ec9-f9a4-4674-a901-e8ed97d9dab5",
   "metadata": {},
   "source": [
    "#### Lets take out median_house_value in order to get only features"
   ]
  },
  {
   "cell_type": "code",
   "execution_count": 7,
   "id": "abc80a4d-96ce-469c-8b21-37012727594b",
   "metadata": {},
   "outputs": [],
   "source": [
    "housing_features = strat_train_set.drop(\"median_house_value\", axis=1)\n",
    "housing_labels = strat_train_set[\"median_house_value\"].copy()"
   ]
  },
  {
   "cell_type": "code",
   "execution_count": 8,
   "id": "b0046010-3072-42cd-9278-35998fe3b476",
   "metadata": {},
   "outputs": [],
   "source": [
    "from sklearn.impute import SimpleImputer"
   ]
  },
  {
   "cell_type": "code",
   "execution_count": 9,
   "id": "afe2f1c6-3b01-4406-a36d-91f8280a27d0",
   "metadata": {},
   "outputs": [],
   "source": [
    "imputer = SimpleImputer(strategy=\"median\")"
   ]
  },
  {
   "cell_type": "code",
   "execution_count": 10,
   "id": "968c93d5-4136-44b3-b98d-133912157faa",
   "metadata": {},
   "outputs": [],
   "source": [
    "housing_num = housing_features.select_dtypes(include=[np.number])"
   ]
  },
  {
   "cell_type": "code",
   "execution_count": 11,
   "id": "5273d5e1-1339-49d8-b7b6-420b6739cb30",
   "metadata": {},
   "outputs": [],
   "source": [
    "X = imputer.fit_transform(housing_num)"
   ]
  },
  {
   "cell_type": "code",
   "execution_count": 12,
   "id": "1d3306eb-8829-41ae-b437-4cb19c76c527",
   "metadata": {},
   "outputs": [],
   "source": [
    "housing = pd.DataFrame(X, columns=housing_num.columns, index=housing_num.index)"
   ]
  },
  {
   "cell_type": "code",
   "execution_count": 13,
   "id": "3b3ec666-b213-4db1-9301-7d5ac6286afc",
   "metadata": {},
   "outputs": [],
   "source": [
    "housing['ocean_proximity'] = df['ocean_proximity']"
   ]
  },
  {
   "cell_type": "markdown",
   "id": "f1b3e9ad-1a00-48d5-8fd7-c7efcc226603",
   "metadata": {},
   "source": [
    "#### we can use ordinal_encoding also.....\n",
    "- `from sklearn.preprocessing import OrdinalEncoder`\n",
    "- `ordinal_encoder = OrdinalEncoder()`\n",
    "- `housing_cat = ordinal_encoder.fit_transform(housing)`\n",
    "- `housing_cat = pd.DataFrame(housing_cat, columns=housing.columns, index=housing.index)`\n",
    "\n",
    "##### but here we are using onehot_encoding instead"
   ]
  },
  {
   "cell_type": "code",
   "execution_count": 14,
   "id": "64ea4db9-8809-43a6-ab91-b1cd78c77cfd",
   "metadata": {},
   "outputs": [],
   "source": [
    "housing = housing[['ocean_proximity']]"
   ]
  },
  {
   "cell_type": "code",
   "execution_count": 15,
   "id": "e4090ae1-53f8-474f-9801-494003dbadd7",
   "metadata": {},
   "outputs": [],
   "source": [
    "from sklearn.preprocessing import OneHotEncoder"
   ]
  },
  {
   "cell_type": "code",
   "execution_count": 16,
   "id": "85ffe910-d0a1-401f-bd11-fa4541cbb89a",
   "metadata": {},
   "outputs": [],
   "source": [
    "cat_encoder = OneHotEncoder()"
   ]
  },
  {
   "cell_type": "code",
   "execution_count": 17,
   "id": "37c692a8-eb40-461f-9805-6c61b0b399c5",
   "metadata": {},
   "outputs": [],
   "source": [
    "housing_cat = cat_encoder.fit_transform(housing)"
   ]
  },
  {
   "cell_type": "code",
   "execution_count": 18,
   "id": "05657801-ba2b-4bf1-886b-e544d85f183b",
   "metadata": {},
   "outputs": [
    {
     "data": {
      "text/plain": [
       "array([[0., 1., 0., 0., 0.],\n",
       "       [0., 0., 0., 0., 1.],\n",
       "       [0., 1., 0., 0., 0.],\n",
       "       ...,\n",
       "       [1., 0., 0., 0., 0.],\n",
       "       [1., 0., 0., 0., 0.],\n",
       "       [0., 1., 0., 0., 0.]])"
      ]
     },
     "execution_count": 18,
     "metadata": {},
     "output_type": "execute_result"
    }
   ],
   "source": [
    "housing_cat.toarray()"
   ]
  },
  {
   "cell_type": "code",
   "execution_count": 19,
   "id": "18649607-e38f-4c2f-a19f-619fe4dfb182",
   "metadata": {},
   "outputs": [],
   "source": [
    "housing_cat = pd.DataFrame(housing_cat.toarray, columns=['<1H OCEAN', 'INLAND', 'ISLAND', 'NEAR BAY', 'NEAR OCEAN'], index=housing.index)"
   ]
  },
  {
   "cell_type": "code",
   "execution_count": null,
   "id": "91511d7e-f0d9-4f4c-abed-a1bb938dc4ba",
   "metadata": {},
   "outputs": [],
   "source": []
  }
 ],
 "metadata": {
  "kernelspec": {
   "display_name": "Python [conda env:base] *",
   "language": "python",
   "name": "conda-base-py"
  },
  "language_info": {
   "codemirror_mode": {
    "name": "ipython",
    "version": 3
   },
   "file_extension": ".py",
   "mimetype": "text/x-python",
   "name": "python",
   "nbconvert_exporter": "python",
   "pygments_lexer": "ipython3",
   "version": "3.13.5"
  }
 },
 "nbformat": 4,
 "nbformat_minor": 5
}
