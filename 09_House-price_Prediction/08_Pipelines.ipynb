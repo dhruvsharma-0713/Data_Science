{
 "cells": [
  {
   "cell_type": "code",
   "execution_count": 1,
   "id": "2213f628-da35-4adc-8836-23dcf8320cdd",
   "metadata": {},
   "outputs": [],
   "source": [
    "import pandas as pd\n",
    "import numpy as np"
   ]
  },
  {
   "cell_type": "code",
   "execution_count": 2,
   "id": "751a4566-8db8-4772-bbf7-f193f4e2ea61",
   "metadata": {},
   "outputs": [],
   "source": [
    "df = pd.read_csv(\"housing.csv\")"
   ]
  },
  {
   "cell_type": "code",
   "execution_count": 3,
   "id": "08866673-cec8-4729-8e12-fccb5593cf5d",
   "metadata": {},
   "outputs": [],
   "source": [
    "df['income_cat'] = pd.cut(df['median_income'], bins=[0, 1.5, 3.0, 4.5, 6.0, np.inf], labels=[1, 2, 3, 4, 5])"
   ]
  },
  {
   "cell_type": "code",
   "execution_count": 4,
   "id": "cac0ecf5-e9e3-497b-a8a8-03c3cf18a547",
   "metadata": {},
   "outputs": [],
   "source": [
    "from sklearn.model_selection import StratifiedShuffleSplit\n",
    "split = StratifiedShuffleSplit(n_splits=1, test_size=0.2, random_state=42)\n",
    "for train_index, test_index in split.split(df, df['income_cat']):\n",
    "    strat_train_set = df.loc[train_index]\n",
    "    strat_test_set = df.loc[test_index]"
   ]
  },
  {
   "cell_type": "markdown",
   "id": "ca79a40d-e6e6-4727-85df-052c3a1ddc25",
   "metadata": {},
   "source": [
    "#### Lets remove the income_cat column"
   ]
  },
  {
   "cell_type": "code",
   "execution_count": 5,
   "id": "6939e49e-d2a2-4981-8ff9-f5579eda03a8",
   "metadata": {},
   "outputs": [],
   "source": [
    "for sett in (strat_train_set, strat_test_set):\n",
    "    sett.drop(\"income_cat\", axis=1, inplace=True)"
   ]
  },
  {
   "cell_type": "code",
   "execution_count": 6,
   "id": "8d615161-bee1-4eda-951e-81d8242b08ba",
   "metadata": {},
   "outputs": [],
   "source": [
    "df = strat_train_set.copy()"
   ]
  },
  {
   "cell_type": "markdown",
   "id": "43d38ec9-f9a4-4674-a901-e8ed97d9dab5",
   "metadata": {},
   "source": [
    "#### Lets take out median_house_value in order to get only features"
   ]
  },
  {
   "cell_type": "code",
   "execution_count": 7,
   "id": "abc80a4d-96ce-469c-8b21-37012727594b",
   "metadata": {},
   "outputs": [],
   "source": [
    "housing_features = strat_train_set.drop(\"median_house_value\", axis=1)\n",
    "housing_labels = strat_train_set[\"median_house_value\"].copy()"
   ]
  },
  {
   "cell_type": "code",
   "execution_count": 8,
   "id": "97092487-0b56-4351-8ce0-eb0b8381e006",
   "metadata": {},
   "outputs": [],
   "source": [
    "housing_features = housing_features.drop(\"ocean_proximity\", axis=1)"
   ]
  },
  {
   "cell_type": "markdown",
   "id": "d9e82115-7764-4edc-acae-2996ac5bd94a",
   "metadata": {},
   "source": [
    "#### Instead of doing all the Below,\n",
    "\n",
    "- `from sklearn.impute import SimpleImputer`\n",
    "- `imputer = SimpleImputer(strategy=\"median\")`\n",
    "- `housing_num = housing_features.select_dtypes(include=[np.number])`\n",
    "- `X = imputer.fit_transform(housing_num)`\n",
    "- `housing = pd.DataFrame(X, columns=housing_num.columns, index=housing_num.index)`\n",
    "- `housing['ocean_proximity'] = df['ocean_proximity']`\n",
    "\n",
    "--------------------------------------------------------------------------------------------------------------------------------\n",
    "\n",
    "- `housing = housing[['ocean_proximity']]`\n",
    "- `from sklearn.preprocessing import OneHotEncoder`\n",
    "- `cat_encoder = OneHotEncoder()`\n",
    "- `housing_cat = cat_encoder.fit_transform(housing)`\n",
    "- `df_1hot = housing_cat.toarray()`\n",
    "- `housing_cat = pd.DataFrame(df_1hot, columns=['<1H OCEAN', 'INLAND', 'ISLAND', 'NEAR BAY', 'NEAR OCEAN'], index=housing.index)`\n",
    "- `df = pd.concat([df, housing_cat], axis=1)`\n",
    "- `df = df.drop(\"ocean_proximity\", axis=1)`\n",
    "\n",
    "--------------------------------------------------------------------------------------------------------------------------------\n",
    "\n",
    "- `from sklearn.preprocessing import StandardScaler`\n",
    "- `scaler = StandardScaler()`\n",
    "- `df_scaled = pd.DataFrame(df_scaled, columns=df.columns, index=df.index)`\n",
    "\n",
    "\n",
    "\n",
    "### we can use `Pipeline` to streamline this process"
   ]
  },
  {
   "cell_type": "code",
   "execution_count": 9,
   "id": "3b40eb3d-8155-4448-a5f0-430d116379d0",
   "metadata": {},
   "outputs": [],
   "source": [
    "from sklearn.pipeline import Pipeline\n",
    "from sklearn.impute import SimpleImputer\n",
    "from sklearn.preprocessing import StandardScaler"
   ]
  },
  {
   "cell_type": "code",
   "execution_count": 10,
   "id": "86e0ce7b-776f-4cdc-aef2-d34423d9c20c",
   "metadata": {},
   "outputs": [],
   "source": [
    "my_pipeline = Pipeline([\n",
    "            (\"impute\", SimpleImputer(strategy=\"median\")),\n",
    "            (\"standardize\", StandardScaler()),\n",
    "])"
   ]
  },
  {
   "cell_type": "code",
   "execution_count": 11,
   "id": "15709afd-b5dc-43c3-be08-615ab07ffc80",
   "metadata": {},
   "outputs": [
    {
     "data": {
      "text/plain": [
       "array([[-0.94135046,  1.34743822,  0.02756357, ...,  0.73260236,\n",
       "         0.55628602, -0.8936472 ],\n",
       "       [ 1.17178212, -1.19243966, -1.72201763, ...,  0.53361152,\n",
       "         0.72131799,  1.292168  ],\n",
       "       [ 0.26758118, -0.1259716 ,  1.22045984, ..., -0.67467519,\n",
       "        -0.52440722, -0.52543365],\n",
       "       ...,\n",
       "       [-1.5707942 ,  1.31001828,  1.53856552, ..., -0.86201341,\n",
       "        -0.86511838, -0.36547546],\n",
       "       [-1.56080303,  1.2492109 , -1.1653327 , ..., -0.18974707,\n",
       "         0.01061579,  0.16826095],\n",
       "       [-1.28105026,  2.02567448, -0.13148926, ..., -0.71232211,\n",
       "        -0.79857323, -0.390569  ]])"
      ]
     },
     "execution_count": 11,
     "metadata": {},
     "output_type": "execute_result"
    }
   ],
   "source": [
    "my_pipeline.fit_transform(housing_features)"
   ]
  },
  {
   "cell_type": "code",
   "execution_count": null,
   "id": "1079accb-3198-4ccf-a395-2ce35c0f2ccb",
   "metadata": {},
   "outputs": [],
   "source": []
  }
 ],
 "metadata": {
  "kernelspec": {
   "display_name": "Python [conda env:base] *",
   "language": "python",
   "name": "conda-base-py"
  },
  "language_info": {
   "codemirror_mode": {
    "name": "ipython",
    "version": 3
   },
   "file_extension": ".py",
   "mimetype": "text/x-python",
   "name": "python",
   "nbconvert_exporter": "python",
   "pygments_lexer": "ipython3",
   "version": "3.13.5"
  }
 },
 "nbformat": 4,
 "nbformat_minor": 5
}
