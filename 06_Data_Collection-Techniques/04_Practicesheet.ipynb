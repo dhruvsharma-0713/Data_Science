{
 "cells": [
  {
   "cell_type": "code",
   "execution_count": 19,
   "id": "c93e65ae-04b6-47de-b80c-a150a8614678",
   "metadata": {},
   "outputs": [],
   "source": [
    "import pandas as pd\n",
    "from bs4 import BeautifulSoup\n",
    "items = []"
   ]
  },
  {
   "cell_type": "code",
   "execution_count": 31,
   "id": "837c0403-0348-4b65-a0f4-af83a9d97b75",
   "metadata": {},
   "outputs": [
    {
     "name": "stdout",
     "output_type": "stream",
     "text": [
      "Loop finished! Found 1960 items in total.\n"
     ]
    }
   ],
   "source": [
    "for i in range(1, 51):\n",
    "    filename = f\"00_HTMLs/page{i}.html\"\n",
    "    \n",
    "    with open(filename, 'r', encoding='utf-8') as f:\n",
    "        content = f.read()\n",
    "    soup = BeautifulSoup(content, \"html.parser\")\n",
    "    articles = soup.select(\"article.product_pod\")\n",
    "\n",
    "    for article in articles:\n",
    "        title = article.find(\"h3\").find(\"a\")[\"title\"]\n",
    "        price = article.select_one(\"p.price_color\").text.strip().split(\"£\")[1]\n",
    "        rating_element = article.select_one(\"p.star-rating\")\n",
    "        rating = rating_element['class'][1]\n",
    "        items.append([title, price, rating])\n",
    "print(f\"Loop finished! Found {len(items)} items in total.\")"
   ]
  },
  {
   "cell_type": "code",
   "execution_count": 32,
   "id": "7dbd64d6-4b28-480c-92b8-a69c29b823f7",
   "metadata": {},
   "outputs": [],
   "source": [
    "df = pd.DataFrame(items, columns=[\"Book Title\", \"Price\", \"Rating\"])"
   ]
  },
  {
   "cell_type": "code",
   "execution_count": 33,
   "id": "3b711529-b31d-4fcc-b9ce-a980f1e5f74a",
   "metadata": {},
   "outputs": [
    {
     "data": {
      "text/html": [
       "<div>\n",
       "<style scoped>\n",
       "    .dataframe tbody tr th:only-of-type {\n",
       "        vertical-align: middle;\n",
       "    }\n",
       "\n",
       "    .dataframe tbody tr th {\n",
       "        vertical-align: top;\n",
       "    }\n",
       "\n",
       "    .dataframe thead th {\n",
       "        text-align: right;\n",
       "    }\n",
       "</style>\n",
       "<table border=\"1\" class=\"dataframe\">\n",
       "  <thead>\n",
       "    <tr style=\"text-align: right;\">\n",
       "      <th></th>\n",
       "      <th>Book Title</th>\n",
       "      <th>Price</th>\n",
       "      <th>Rating</th>\n",
       "    </tr>\n",
       "  </thead>\n",
       "  <tbody>\n",
       "    <tr>\n",
       "      <th>0</th>\n",
       "      <td>A Light in the Attic</td>\n",
       "      <td>51.77</td>\n",
       "      <td>Three</td>\n",
       "    </tr>\n",
       "    <tr>\n",
       "      <th>1</th>\n",
       "      <td>Tipping the Velvet</td>\n",
       "      <td>53.74</td>\n",
       "      <td>One</td>\n",
       "    </tr>\n",
       "    <tr>\n",
       "      <th>2</th>\n",
       "      <td>Soumission</td>\n",
       "      <td>50.10</td>\n",
       "      <td>One</td>\n",
       "    </tr>\n",
       "    <tr>\n",
       "      <th>3</th>\n",
       "      <td>Sharp Objects</td>\n",
       "      <td>47.82</td>\n",
       "      <td>Four</td>\n",
       "    </tr>\n",
       "    <tr>\n",
       "      <th>4</th>\n",
       "      <td>Sapiens: A Brief History of Humankind</td>\n",
       "      <td>54.23</td>\n",
       "      <td>Five</td>\n",
       "    </tr>\n",
       "  </tbody>\n",
       "</table>\n",
       "</div>"
      ],
      "text/plain": [
       "                              Book Title  Price Rating\n",
       "0                   A Light in the Attic  51.77  Three\n",
       "1                     Tipping the Velvet  53.74    One\n",
       "2                             Soumission  50.10    One\n",
       "3                          Sharp Objects  47.82   Four\n",
       "4  Sapiens: A Brief History of Humankind  54.23   Five"
      ]
     },
     "execution_count": 33,
     "metadata": {},
     "output_type": "execute_result"
    }
   ],
   "source": [
    "df.head()"
   ]
  },
  {
   "cell_type": "code",
   "execution_count": 34,
   "id": "131a2c5b-8ad9-4c5a-9bc2-66e9073f6599",
   "metadata": {},
   "outputs": [],
   "source": [
    "df.to_csv(\"scraped_all_50_pages.csv\", index=False)"
   ]
  },
  {
   "cell_type": "code",
   "execution_count": null,
   "id": "00d69226-f802-4471-99ab-982407a29941",
   "metadata": {},
   "outputs": [],
   "source": []
  }
 ],
 "metadata": {
  "kernelspec": {
   "display_name": "Python [conda env:base] *",
   "language": "python",
   "name": "conda-base-py"
  },
  "language_info": {
   "codemirror_mode": {
    "name": "ipython",
    "version": 3
   },
   "file_extension": ".py",
   "mimetype": "text/x-python",
   "name": "python",
   "nbconvert_exporter": "python",
   "pygments_lexer": "ipython3",
   "version": "3.13.5"
  }
 },
 "nbformat": 4,
 "nbformat_minor": 5
}
